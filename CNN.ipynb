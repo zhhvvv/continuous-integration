{
  "cells": [
    {
      "cell_type": "markdown",
      "metadata": {
        "id": "view-in-github",
        "colab_type": "text"
      },
      "source": [
        "<a href=\"https://colab.research.google.com/github/zhhvvv/continuous-integration/blob/main/CNN.ipynb\" target=\"_parent\"><img src=\"https://colab.research.google.com/assets/colab-badge.svg\" alt=\"Open In Colab\"/></a>"
      ]
    },
    {
      "cell_type": "code",
      "execution_count": null,
      "metadata": {
        "id": "BG7l7lH_GBhS"
      },
      "outputs": [],
      "source": [
        "# # DataPath = 'CUB_200_2011/CUB_200_2011'\n",
        "# DataPath = '../CUB_200_2011/CUB_200_2011'\n",
        "# MaskPath = '../segmentations'\n",
        "\n",
        "# classNumber = 200\n",
        "# LogPath = '/result/'\n",
        "# SaveModel = './checkpoint/'\n",
        "#!tar -xzvf /content/drive/MyDrive/Colab_Notebooks/CUB_200_2011.tgz"
      ],
      "id": "BG7l7lH_GBhS"
    },
    {
      "cell_type": "code",
      "execution_count": null,
      "metadata": {
        "colab": {
          "base_uri": "https://localhost:8080/"
        },
        "id": "r4-449WgCEAG",
        "outputId": "8edd5f4d-c553-440a-f77c-40db8b5ce9d3"
      },
      "outputs": [
        {
          "name": "stdout",
          "output_type": "stream",
          "text": [
            "Mounted at /content/drive\n"
          ]
        }
      ],
      "source": [
        "# from google.colab import drive\n",
        "# drive.mount('/content/drive')"
      ],
      "id": "r4-449WgCEAG"
    },
    {
      "cell_type": "code",
      "source": [
        "from google.colab import drive\n",
        "drive.mount('/content/drive')"
      ],
      "metadata": {
        "colab": {
          "base_uri": "https://localhost:8080/"
        },
        "id": "z7WKOSASMYm_",
        "outputId": "75ee0ef3-c340-4ab1-b0cf-92c3404f1281"
      },
      "id": "z7WKOSASMYm_",
      "execution_count": null,
      "outputs": [
        {
          "output_type": "stream",
          "name": "stdout",
          "text": [
            "Mounted at /content/drive\n"
          ]
        }
      ]
    },
    {
      "cell_type": "code",
      "execution_count": null,
      "metadata": {
        "id": "Zo3aD0GciMdv"
      },
      "outputs": [],
      "source": [
        "!tar -xzvf /content/drive/MyDrive/Colab_Notebooks/CUB_200_2011.tgz"
      ],
      "id": "Zo3aD0GciMdv"
    },
    {
      "cell_type": "code",
      "execution_count": null,
      "metadata": {
        "colab": {
          "base_uri": "https://localhost:8080/"
        },
        "id": "VDdgX9Fdm0Fw",
        "outputId": "3312a925-690c-49d8-a567-4a39ba3fa1db"
      },
      "outputs": [
        {
          "output_type": "stream",
          "name": "stdout",
          "text": [
            "Looking in indexes: https://pypi.org/simple, https://us-python.pkg.dev/colab-wheels/public/simple/\n",
            "Requirement already satisfied: imageio in /usr/local/lib/python3.7/dist-packages (2.9.0)\n",
            "Requirement already satisfied: pillow in /usr/local/lib/python3.7/dist-packages (from imageio) (7.1.2)\n",
            "Requirement already satisfied: numpy in /usr/local/lib/python3.7/dist-packages (from imageio) (1.21.6)\n",
            "Looking in indexes: https://pypi.org/simple, https://us-python.pkg.dev/colab-wheels/public/simple/\n",
            "Collecting einops\n",
            "  Downloading einops-0.6.0-py3-none-any.whl (41 kB)\n",
            "\u001b[K     |████████████████████████████████| 41 kB 532 kB/s \n",
            "\u001b[?25hInstalling collected packages: einops\n",
            "Successfully installed einops-0.6.0\n"
          ]
        }
      ],
      "source": [
        "!pip install imageio\n",
        "!pip install einops"
      ],
      "id": "VDdgX9Fdm0Fw"
    },
    {
      "cell_type": "code",
      "execution_count": null,
      "metadata": {
        "id": "cmt2K3GuLlTn"
      },
      "outputs": [],
      "source": [
        "import numpy as np\n",
        "import torch\n",
        "import torch.nn as nn\n",
        "import tqdm\n",
        "from torch.utils.data import DataLoader\n",
        "import imageio\n",
        "from einops import rearrange\n",
        "\n",
        "from PIL import Image\n",
        "\n",
        "from imgaug import augmenters as iaa\n",
        "from torchvision import transforms\n",
        "\n",
        "from torchvision import models\n",
        "from torch.nn import init\n",
        "\n",
        "import torchvision\n",
        "import torch.nn.functional as F\n",
        "\n",
        "from torch.utils.data.dataset import Dataset\n",
        "import cv2 as cv\n",
        "import os\n",
        "import random\n",
        "\n",
        "import pandas as pd"
      ],
      "id": "cmt2K3GuLlTn"
    },
    {
      "cell_type": "code",
      "execution_count": null,
      "metadata": {
        "id": "R1xatxS-l5XX"
      },
      "outputs": [],
      "source": [
        "DataPath = '/content/CUB_200_2011'\n",
        "# DataPath = '../CUB_200_2011/CUB_200_2011'\n",
        "# MaskPath = '../segmentations'\n",
        "# DataPath = '../CUB_200_2011/CUB_200_2011'\n",
        "\n",
        "classNumber = 200\n",
        "LogPath = '/content/drive/MyDrive/record/'\n",
        "SaveModel = '/content/drive/MyDrive/checkpoint/'"
      ],
      "id": "R1xatxS-l5XX"
    },
    {
      "cell_type": "code",
      "execution_count": null,
      "metadata": {
        "id": "oX0pYGNNF-HY"
      },
      "outputs": [],
      "source": [
        "class CUB_200_2011(Dataset):\n",
        "    def __init__(self, dataSetName, shape, train=True, path=DataPath, aug=False, T=None):\n",
        "        super(CUB_200_2011, self).__init__()\n",
        "        self.dataSetName = dataSetName\n",
        "        self._FOR_TRAIN = train\n",
        "        self._shape = shape\n",
        "        self.path = path\n",
        "        self.data_path = []\n",
        "        self.data_label = []\n",
        "        self.aug = aug\n",
        "        self._Init()\n",
        "        if T is None:\n",
        "            self.T = transforms.Compose([\n",
        "                iaa.SomeOf((0, 2), [\n",
        "                    iaa.Sharpen(alpha=(0, 1.0), lightness=(0.75, 1.5)),\n",
        "                    iaa.AdditiveGaussianNoise(loc=0, scale=(0.0, 0.05 * 255), per_channel=0.5),\n",
        "                    iaa.Superpixels(p_replace=(0, 1.0), n_segments=(20, 200)),\n",
        "                    iaa.PiecewiseAffine(scale=(0.01, 0.05)),\n",
        "                    iaa.ChannelShuffle(0.35)]).augment_image\n",
        "                # transforms.ToTensor()\n",
        "            ])\n",
        "        else:\n",
        "            self.T = T\n",
        "\n",
        "    def _Init(self):\n",
        "        target = '1' if self._FOR_TRAIN else '0'\n",
        "        data_index = []\n",
        "        with open(self.path + '/train_test_split.txt', 'r') as F:\n",
        "            for i in F.readlines():\n",
        "                a = i.split()\n",
        "                if a[1] == target:\n",
        "                    data_index.append(a[0])\n",
        "\n",
        "        with open(self.path + '/images.txt', 'r') as F:\n",
        "            for i in F.readlines():\n",
        "                a = i.split()\n",
        "                if a[0] in data_index:\n",
        "                    _ = a[1].split('.')\n",
        "                    label = int(_[0])\n",
        "                    self.data_label.append(label)\n",
        "                    self.data_path.append(a[1])\n",
        "\n",
        "    def __getitem__(self, item):\n",
        "\n",
        "        img = cv.imread(self.path + '/images/' + self.data_path[item])\n",
        "\n",
        "        if len(img.shape) == 1:\n",
        "          img = cv.cvtColor(img, cv.CV_GRAY2RGB)\n",
        "\n",
        "        img = cv.resize(img, (self._shape, self._shape))\n",
        "        label = int(self.data_path[item].split(\"/\")[-2].split(\".\")[0])\n",
        "\n",
        "        if self.aug:\n",
        "            img = self.T(img)\n",
        "            # cv.imshow(\"ok\", img)\n",
        "            # cv.waitKey(0 )\n",
        "\n",
        "        data = torch.Tensor(img)\n",
        "        data = rearrange(data, \"w h c -> c w h\")\n",
        "        return data, torch.LongTensor([label - 1])\n",
        "\n",
        "    def __len__(self):\n",
        "        return len(self.data_label)"
      ],
      "id": "oX0pYGNNF-HY"
    },
    {
      "cell_type": "code",
      "execution_count": null,
      "metadata": {
        "id": "lPVgENOFmB2w"
      },
      "outputs": [],
      "source": [
        "class evalMatrix:\n",
        "    def __init__(self, clses, device, Matrix=None):\n",
        "        if Matrix is None:\n",
        "            print(clses, device)\n",
        "            # a = torch.from_numpy(np.zeros((clses, clses)))\n",
        "            # a = a.to(device)\n",
        "            self.Matrix = torch.from_numpy(np.zeros((clses, clses))).to(device)\n",
        "            print('ok')\n",
        "        else:\n",
        "            self.Matrix = Matrix\n",
        "        self.device = device\n",
        "        self.clses = clses\n",
        "        self.acc = -1\n",
        "        self.recall = -1\n",
        "        self.precision = -1\n",
        "        self.f1 = -1\n",
        "        self.kappa = -1\n",
        "        # print(self.Matrix)\n",
        "\n",
        "    def record(self, out, y):\n",
        "        pred = torch.argmax(out, dim=1)\n",
        "        for i in range(len(pred)):\n",
        "            self.Matrix[y[i].item()][max(0, pred[i].item())] += 1\n",
        "\n",
        "    def clear(self):\n",
        "        self.Matrix = torch.from_numpy(np.zeros((self.clses, self.clses))).to(self.device)\n",
        "\n",
        "    def analysis(self):\n",
        "        all_number = torch.sum(self.Matrix)\n",
        "        # print(all_number)\n",
        "\n",
        "        # get acc\n",
        "        acc = 0\n",
        "        for i in range(self.clses):\n",
        "            acc += self.Matrix[i][i]\n",
        "        acc = acc / all_number\n",
        "        self.acc = acc.item()\n",
        "        # print(acc)\n",
        "\n",
        "        # get recall\n",
        "        recall = torch.zeros(self.clses).to(self.device)\n",
        "        for i in range(self.clses):\n",
        "            recall[i] = self.Matrix[i][i] / torch.sum(self.Matrix, dim=0)[i]\n",
        "        self.recall = recall.sum().item() / self.clses\n",
        "\n",
        "        # print(recall)\n",
        "        precision = torch.zeros(self.clses).to(self.device)\n",
        "        for i in range(self.clses):\n",
        "            precision[i] = self.Matrix[i][i] / torch.sum(self.Matrix, dim=1)[i]\n",
        "        self.precision = precision.sum().item() / self.clses\n",
        "\n",
        "        # get f1\n",
        "        f1 = torch.torch.zeros(self.clses).to(self.device)\n",
        "        for i in range(self.clses):\n",
        "            f1[i] = 2 * precision[i] * recall[i] / (precision[i] + recall[i])\n",
        "        self.f1 = f1.sum().item() / self.clses\n",
        "        # print(f1)\n",
        "\n",
        "        # get kappa\n",
        "        pe = 0\n",
        "        for i in range(self.clses):\n",
        "            pe += torch.sum(self.Matrix, dim=1)[i] * torch.sum(self.Matrix, dim=0)[i]\n",
        "        pe = pe / (torch.sum(self.Matrix) ** 2)\n",
        "        kappa = (acc - pe) / (1 - pe)\n",
        "        self.kappa = kappa.item()\n",
        "        # print(kappa)\n",
        "\n",
        "        return self.acc, self.recall, self.precision, self.f1, self.kappa\n"
      ],
      "id": "lPVgENOFmB2w"
    },
    {
      "cell_type": "code",
      "execution_count": null,
      "metadata": {
        "id": "DmXVhEizmHsf"
      },
      "outputs": [],
      "source": [
        "def weight_init_kaiming(m):\n",
        "    class_names = m.__class__.__name__\n",
        "    if class_names.find('Conv') != -1:\n",
        "        init.kaiming_normal_(m.weight.data, a=0, mode='fan_in')\n",
        "    elif class_names.find('Linear') != -1:\n",
        "        init.kaiming_normal_(m.weight.data)\n",
        "        \n",
        "def box(img, mask):\n",
        "    if len(img.shape) == 2:\n",
        "        new_img = np.zeros((img.shape[0], img.shape[1], 3))\n",
        "        for i in range(3):\n",
        "            new_img[:, :, i] = img\n",
        "        img = new_img\n",
        "    if len(mask.shape) == 3:\n",
        "        mask = mask[:, :, 0]\n",
        "\n",
        "    maskimg = cv.bitwise_and(src1=img, src2=img, mask=mask)\n",
        "    # print(maskimg.shape)\n",
        "    sub_img = np.where(maskimg > 0)\n",
        "    final = maskimg[min(sub_img[0]):max(sub_img[0]), min(sub_img[1]):max(sub_img[1]), :]\n",
        "    return final\n",
        "\n",
        "\n",
        "def set_seed(seed=0):\n",
        "    random.seed(seed)\n",
        "    np.random.seed(seed)\n",
        "    os.environ['PYTHONHASHSEED'] = str(seed)\n",
        "    random.seed(seed)\n",
        "    np.random.seed(seed)\n",
        "    torch.manual_seed(seed)\n",
        "    torch.cuda.manual_seed(seed)\n",
        "    torch.cuda.manual_seed_all(seed)\n",
        "\n",
        "\n",
        "class Log:\n",
        "    def __init__(self, path, model_name, df_style=None):\n",
        "        self.path = path\n",
        "        self.model_name = model_name\n",
        "        if df_style is None:\n",
        "            self.df_style = pd.DataFrame(\n",
        "                columns=['epoch', 'train_loss', 'train_acc', 'train_precision', 'train_recall', 'train_f1',\n",
        "                         'train_kappa',\n",
        "                         'val_loss', 'val_acc', 'val_precision', 'val_recall', 'val_f1', 'val_kappa',\n",
        "                         'test_acc', 'test_precision', 'test_recall', 'test_f1', 'test_kappa'],\n",
        "                index=[i for i in range(50)],\n",
        "            )\n",
        "        else:\n",
        "            self.df_style = df_style\n",
        "\n",
        "        # print(self.df_style)\n",
        "\n",
        "    def load(self, path=None):\n",
        "        if path is None:\n",
        "            self.df_style = pd.read_csv(self.path, index_col=-1)\n",
        "\n",
        "        else:\n",
        "            self.df_style = pd.read_csv(path, index_col=-1)\n",
        "\n",
        "        print('load succeed!')\n",
        "\n",
        "    def print(self):\n",
        "        print(self.df_style)\n",
        "\n",
        "    def record(self, epoch, evaluator, loss, state, auto_write=False):\n",
        "        r = list(evaluator.analysis())\n",
        "        self.df_style.iloc[epoch]['epoch'] = epoch\n",
        "        if state != 'test':\n",
        "            self.df_style.iloc[epoch][state + '_loss'] = loss\n",
        "        self.df_style.iloc[epoch][state + '_acc'] = r[0]\n",
        "        self.df_style.iloc[epoch][state + '_precision'] = r[1]\n",
        "        self.df_style.iloc[epoch][state + '_recall'] = r[2]\n",
        "        self.df_style.iloc[epoch][state + '_f1'] = r[3]\n",
        "        self.df_style.iloc[epoch][state + '_kappa'] = r[4]\n",
        "        if auto_write:\n",
        "            self.write()\n",
        "        else:\n",
        "            print(\n",
        "                'The record has been updated, but not yet written to the file because the argument \\'auto_write\\' is False')\n",
        "\n",
        "    def write(self):\n",
        "        self.df_style.to_csv(self.path, index=False)\n",
        "        print('log succeed!')\n",
        "\n",
        "\n",
        "def count_parameters(model):\n",
        "    # 统计一个模型的参数\n",
        "    temp = sum(p.numel() for p in model.parameters() if p.requires_grad)\n",
        "    print(f'\\nThe model has {temp:,} trainable parameters')\n",
        "\n",
        "\n",
        "def get_device():\n",
        "    return 'cuda:0' if torch.cuda.is_available() else 'cpu'\n",
        "\n",
        "\n",
        "def score(state, evaluater, epoch=-1, loss=-1.):\n",
        "    acc, recall, pre, f1, kappa = evaluater.analysis()\n",
        "    if state is 'test':\n",
        "        print('|acc       : {}%'.format(acc * 100))\n",
        "        print('|recall    : {}'.format(recall))\n",
        "        print('|precision : {}'.format(pre))\n",
        "        print('|f1        : {}'.format(f1))\n",
        "        print('|kappa     : {}'.format(kappa))\n",
        "    else:\n",
        "        print('|epoch     : {}    '.format(epoch) + state + ' loss: {}'.format(loss))\n",
        "        print('|acc       : {}%'.format(acc * 100))\n",
        "        print('|recall    : {}'.format(recall))\n",
        "        print('|precision : {}'.format(pre))\n",
        "        print('|f1        : {}'.format(f1))\n",
        "        print('|kappa     : {}'.format(kappa))\n"
      ],
      "id": "DmXVhEizmHsf"
    },
    {
      "cell_type": "code",
      "execution_count": null,
      "metadata": {
        "id": "Vskx9DN7mM2M"
      },
      "outputs": [],
      "source": [
        "def test(model, device, dataset, batch_size, test_evaluater=None, log=None, shuffle=True, num_workers=2):\n",
        "    test_set = DataLoader(dataset, batch_size=batch_size, shuffle=shuffle, num_workers=num_workers)\n",
        "    pred = _test(model, test_set, device, test_evaluater)\n",
        "    if log:\n",
        "        log.record(0, test_evaluater, -1, 'test', auto_write=True)\n",
        "    score('test', test_evaluater)\n",
        "    return pred\n",
        "\n",
        "\n",
        "def _test(model, input_loader, device, evaluater=None):\n",
        "    evaluater.clear()\n",
        "    model.eval()\n",
        "    with torch.no_grad():\n",
        "        for src, cls in tqdm.tqdm(input_loader, desc='test'):\n",
        "            src = src.to(device)\n",
        "            output = model(src).to(device)\n",
        "            evaluater.record(output, cls)\n",
        "            pred = torch.argmax(output, dim=1)\n",
        "    return pred\n"
      ],
      "id": "Vskx9DN7mM2M"
    },
    {
      "cell_type": "code",
      "execution_count": null,
      "metadata": {
        "id": "OnDUNoW4mNbN"
      },
      "outputs": [],
      "source": [
        "def train(model, train_data, val_data, epochs=3, batch_size=64, learning_rate=0.01, device='cpu', loss_func=None,\n",
        "          optimizer=None, train_evaluator: evalMatrix = None, val_evaluator: evalMatrix = None, log=None, num_workers=2,\n",
        "          save_model='best_model.pt'):\n",
        "    \"\"\"\n",
        "    model: nn model\n",
        "    data: each item is a tuple (image, label)\n",
        "    epochs: int\n",
        "    batch_size: int\n",
        "    learning_rate: float\n",
        "    \"\"\"\n",
        "\n",
        "    # Prepare parameter\n",
        "    if not loss_func:\n",
        "        loss_func = nn.CrossEntropyLoss()\n",
        "\n",
        "    # Split data into batches\n",
        "    train_dataloader = DataLoader(train_data, batch_size=batch_size, shuffle=True, drop_last=True,\n",
        "                                  num_workers=num_workers)\n",
        "    val_dataloader = DataLoader(val_data, batch_size=batch_size, shuffle=True, drop_last=True,\n",
        "                                num_workers=num_workers)\n",
        "\n",
        "    # Optimizer\n",
        "    if optimizer is None:\n",
        "        optimizer = torch.optim.Adam(model.parameters(), lr=learning_rate)\n",
        "\n",
        "    # scheduler\n",
        "    scheduler = torch.optim.lr_scheduler.ReduceLROnPlateau(optimizer)\n",
        "\n",
        "    model.to(device)\n",
        "\n",
        "    # Start training\n",
        "    best_acc = -1\n",
        "    for epoch in range(epochs):\n",
        "        print(\"=\" * 10, \"Epoch\", epoch, \"=\" * 10)\n",
        "        total_loss = 0\n",
        "        train_evaluator.clear()\n",
        "        val_evaluator.clear()\n",
        "        model.train()\n",
        "        for data, cls in tqdm.tqdm(train_dataloader):\n",
        "            # for data, cls in dataloader:\n",
        "            # zero the gradients\n",
        "            data = data.to(device)\n",
        "            cls = cls.to(device)\n",
        "            optimizer.zero_grad()\n",
        "            # forward\n",
        "            outputs = model(data)\n",
        "            cls = torch.flatten(cls)\n",
        "            loss = loss_func(outputs, cls)\n",
        "            if train_evaluator is not None:\n",
        "                train_evaluator.record(outputs, cls)\n",
        "            # backward\n",
        "            loss.backward()\n",
        "            # optimize\n",
        "            optimizer.step()\n",
        "            # statistics\n",
        "            total_loss += loss.data.item()\n",
        "\n",
        "        print('avg_loss:', total_loss / (len(train_dataloader)))\n",
        "\n",
        "        if train_evaluator is not None and log is not None:\n",
        "            log.record(epoch=epoch, evaluator=train_evaluator, loss=float(total_loss) / len(train_dataloader),\n",
        "                       state='train',\n",
        "                       auto_write=True)\n",
        "\n",
        "        _validation(model, criterion=loss_func, loader=val_dataloader, evaluater=val_evaluator, device=device)\n",
        "\n",
        "        if val_dataloader is not None and log is not None:\n",
        "            log.record(epoch=epoch, evaluator=val_evaluator, loss=0, state='test', auto_write=True)\n",
        "            if best_acc < val_evaluator.acc:\n",
        "                best_acc = val_evaluator.acc\n",
        "                torch.save(model, SaveModel + save_model)\n",
        "\n",
        "        scheduler.step(total_loss)\n",
        "\n",
        "\n",
        "def _validation(model, criterion, loader, device, evaluater=None):\n",
        "    evaluater.clear()\n",
        "    model.eval()\n",
        "    epoch_loss_ = 0\n",
        "    with torch.no_grad():\n",
        "        for src, cls in tqdm.tqdm(loader, desc='test '):\n",
        "            src = src.to(device)\n",
        "            cls = cls.to(device)\n",
        "            output = model(src)\n",
        "            cls = torch.flatten(cls)\n",
        "            evaluater.record(output, cls)\n",
        "            loss = criterion(output, cls)\n",
        "            epoch_loss_ += loss.item()\n",
        "    return epoch_loss_ / len(loader)\n"
      ],
      "id": "OnDUNoW4mNbN"
    },
    {
      "cell_type": "code",
      "execution_count": null,
      "metadata": {
        "id": "CIMfiKlQn7Gl"
      },
      "outputs": [],
      "source": [
        "class Network(nn.Module):\n",
        "    def __init__(self):\n",
        "        super(Network, self).__init__()\n",
        "        \n",
        "        self.Flatten = nn.Flatten()\n",
        "\n",
        "        self.conv1 = nn.Conv2d(in_channels=3, out_channels=24, kernel_size=3, stride=1, padding=1)\n",
        "        self.bn1 = nn.BatchNorm2d(24)\n",
        "        self.conv2 = nn.Conv2d(in_channels=24, out_channels=24, kernel_size=3, stride=1, padding=1)\n",
        "        self.bn2 = nn.BatchNorm2d(24)\n",
        "        self.pool = nn.MaxPool2d(2,2)\n",
        "        self.conv4 = nn.Conv2d(in_channels=24, out_channels=48, kernel_size=3, stride=1, padding=1)\n",
        "        self.bn4 = nn.BatchNorm2d(48)\n",
        "        self.conv5 = nn.Conv2d(in_channels=48, out_channels=48, kernel_size=3, stride=1, padding=1)\n",
        "        self.bn5 = nn.BatchNorm2d(48)\n",
        "        self.fc1 = nn.Linear(602112, 200)\n",
        "        \n",
        "        \n",
        "\n",
        "    def forward(self, input):\n",
        "        output = F.relu(self.bn1(self.conv1(input)))      \n",
        "        output = F.relu(self.bn2(self.conv2(output)))     \n",
        "        output = self.pool(output)                        \n",
        "        output = F.relu(self.bn4(self.conv4(output)))     \n",
        "        output = F.relu(self.bn5(self.conv5(output)))     \n",
        "        #output = output.view(-1, 24*10*10)\n",
        "        output = self.Flatten(output)\n",
        "        output = self.fc1(output)\n",
        "        \n",
        "        return output"
      ],
      "id": "CIMfiKlQn7Gl"
    },
    {
      "cell_type": "code",
      "execution_count": null,
      "metadata": {
        "colab": {
          "base_uri": "https://localhost:8080/"
        },
        "id": "ozKzkDYyIcTE",
        "outputId": "20d233a2-b9d3-4494-c342-29e19fd1f3cc"
      },
      "outputs": [
        {
          "name": "stdout",
          "output_type": "stream",
          "text": [
            "Looking in indexes: https://pypi.org/simple, https://us-python.pkg.dev/colab-wheels/public/simple/\n",
            "Requirement already satisfied: transformers in /usr/local/lib/python3.7/dist-packages (4.24.0)\n",
            "Requirement already satisfied: tqdm>=4.27 in /usr/local/lib/python3.7/dist-packages (from transformers) (4.64.1)\n",
            "Requirement already satisfied: huggingface-hub<1.0,>=0.10.0 in /usr/local/lib/python3.7/dist-packages (from transformers) (0.11.0)\n",
            "Requirement already satisfied: regex!=2019.12.17 in /usr/local/lib/python3.7/dist-packages (from transformers) (2022.6.2)\n",
            "Requirement already satisfied: tokenizers!=0.11.3,<0.14,>=0.11.1 in /usr/local/lib/python3.7/dist-packages (from transformers) (0.13.2)\n",
            "Requirement already satisfied: numpy>=1.17 in /usr/local/lib/python3.7/dist-packages (from transformers) (1.21.6)\n",
            "Requirement already satisfied: requests in /usr/local/lib/python3.7/dist-packages (from transformers) (2.23.0)\n",
            "Requirement already satisfied: filelock in /usr/local/lib/python3.7/dist-packages (from transformers) (3.8.0)\n",
            "Requirement already satisfied: importlib-metadata in /usr/local/lib/python3.7/dist-packages (from transformers) (4.13.0)\n",
            "Requirement already satisfied: pyyaml>=5.1 in /usr/local/lib/python3.7/dist-packages (from transformers) (6.0)\n",
            "Requirement already satisfied: packaging>=20.0 in /usr/local/lib/python3.7/dist-packages (from transformers) (21.3)\n",
            "Requirement already satisfied: typing-extensions>=3.7.4.3 in /usr/local/lib/python3.7/dist-packages (from huggingface-hub<1.0,>=0.10.0->transformers) (4.1.1)\n",
            "Requirement already satisfied: pyparsing!=3.0.5,>=2.0.2 in /usr/local/lib/python3.7/dist-packages (from packaging>=20.0->transformers) (3.0.9)\n",
            "Requirement already satisfied: zipp>=0.5 in /usr/local/lib/python3.7/dist-packages (from importlib-metadata->transformers) (3.10.0)\n",
            "Requirement already satisfied: chardet<4,>=3.0.2 in /usr/local/lib/python3.7/dist-packages (from requests->transformers) (3.0.4)\n",
            "Requirement already satisfied: idna<3,>=2.5 in /usr/local/lib/python3.7/dist-packages (from requests->transformers) (2.10)\n",
            "Requirement already satisfied: certifi>=2017.4.17 in /usr/local/lib/python3.7/dist-packages (from requests->transformers) (2022.9.24)\n",
            "Requirement already satisfied: urllib3!=1.25.0,!=1.25.1,<1.26,>=1.21.1 in /usr/local/lib/python3.7/dist-packages (from requests->transformers) (1.24.3)\n"
          ]
        }
      ],
      "source": [
        "# ! pip install transformers\n",
        "\n",
        "# from transformers import ViTFeatureExtractor, ViTModel\n",
        "# import torch\n",
        "# feature_extractor = ViTFeatureExtractor.from_pretrained(\"google/vit-base-patch16-224-in21k\")\n",
        "# pre_model = ViTModel.from_pretrained(\"google/vit-base-patch16-224-in21k\")"
      ],
      "id": "ozKzkDYyIcTE"
    },
    {
      "cell_type": "code",
      "execution_count": null,
      "metadata": {
        "id": "3hoiIweFwCjt"
      },
      "outputs": [],
      "source": [
        "\n",
        "# device = get_device()\n",
        "# pre_model.to(device)\n",
        "class Model(torch.nn.Module):\n",
        "    def __init__(self):\n",
        "        super().__init__()\n",
        "        self.fc=torch.nn.Linear(768,200)\n",
        "    def forward(self,input):\n",
        "\n",
        "        image_list=[im for im in input.cpu()]\n",
        "        inputs = feature_extractor(image_list, return_tensors=\"pt\").to(device)\n",
        "        \n",
        "        with torch.no_grad():\n",
        "          out = pre_model(**inputs).last_hidden_state[:,0,:]\n",
        "        \n",
        "        out=self.fc(out)\n",
        "        #out=out.softmax(dim=1)\n",
        "        # out=out.softmax(dim=1)\n",
        "        return out\n",
        "#model_nn=Model()\n",
        "\n",
        "class ResNet(nn.Module):\n",
        "    def __init__(self, pre_trained=True, n_class=200, model_choice=50):\n",
        "        super(ResNet, self).__init__()\n",
        "        self.n_class = n_class\n",
        "        self.base_model = self._model_choice(pre_trained, model_choice)\n",
        "        self.base_model.avgpool = nn.AdaptiveAvgPool2d((1, 1))\n",
        "        self.base_model.fc = nn.Linear(512 * 4, n_class)\n",
        "        self.base_model.fc.apply(weight_init_kaiming)\n",
        "\n",
        "    def forward(self, x):\n",
        "        N = x.size(0)\n",
        "        assert x.size() == (N, 3, 192, 192)\n",
        "        x = self.base_model(x)\n",
        "        assert x.size() == (N, self.n_class)\n",
        "        return x\n",
        "\n",
        "    def _model_choice(self, pre_trained, model_choice):\n",
        "        if model_choice == 50:\n",
        "            return models.resnet50(pretrained=pre_trained)\n",
        "        elif model_choice == 101:\n",
        "            return models.resnet101(pretrained=pre_trained)\n",
        "        elif model_choice == 152:\n",
        "            return models.resnet152(pretrained=pre_trained)"
      ],
      "id": "3hoiIweFwCjt"
    },
    {
      "cell_type": "code",
      "execution_count": null,
      "metadata": {
        "id": "vpDjAy9gG39W"
      },
      "outputs": [],
      "source": [],
      "id": "vpDjAy9gG39W"
    },
    {
      "cell_type": "code",
      "execution_count": null,
      "metadata": {
        "colab": {
          "base_uri": "https://localhost:8080/",
          "height": 1000
        },
        "id": "rhFu6yCJmTfr",
        "outputId": "8afe106a-3117-40b5-9d1a-135ff38a1a2b"
      },
      "outputs": [
        {
          "metadata": {
            "tags": null
          },
          "name": "stdout",
          "output_type": "stream",
          "text": [
            "cuda:0\n",
            "200 cuda:0\n",
            "ok\n",
            "200 cuda:0\n",
            "ok\n",
            "\n",
            "The model has 120,459,968 trainable parameters\n",
            "========== Epoch 0 ==========\n"
          ]
        },
        {
          "metadata": {
            "tags": null
          },
          "name": "stderr",
          "output_type": "stream",
          "text": [
            "  0%|          | 0/93 [00:00<?, ?it/s]/usr/local/lib/python3.7/dist-packages/imgaug/augmenters/segmentation.py:272: FutureWarning: skimage.measure.label's indexing starts from 0. In future version it will start from 1. To disable this warning, explicitely set the `start_label` parameter to 1.\n",
            "  image, n_segments=n_segments_samples[i], compactness=10)\n",
            "/usr/local/lib/python3.7/dist-packages/imgaug/augmenters/segmentation.py:272: FutureWarning: skimage.measure.label's indexing starts from 0. In future version it will start from 1. To disable this warning, explicitely set the `start_label` parameter to 1.\n",
            "  image, n_segments=n_segments_samples[i], compactness=10)\n",
            "  9%|▊         | 8/93 [00:18<03:31,  2.48s/it]Exception ignored in: <function _MultiProcessingDataLoaderIter.__del__ at 0x7fc37d6f67a0>\n",
            "Traceback (most recent call last):\n",
            "  File \"/usr/local/lib/python3.7/dist-packages/torch/utils/data/dataloader.py\", line 1510, in __del__\n",
            "    self._shutdown_workers()\n",
            "  File \"/usr/local/lib/python3.7/dist-packages/torch/utils/data/dataloader.py\", line 1493, in _shutdown_workers\n",
            "    if w.is_alive():\n",
            "  File \"/usr/lib/python3.7/multiprocessing/process.py\", line 151, in is_alive\n",
            "    assert self._parent_pid == os.getpid(), 'can only test a child process'\n",
            "AssertionError: can only test a child process\n",
            "Exception ignored in: <function _MultiProcessingDataLoaderIter.__del__ at 0x7fc37d6f67a0>\n",
            "Traceback (most recent call last):\n",
            "  File \"/usr/local/lib/python3.7/dist-packages/torch/utils/data/dataloader.py\", line 1510, in __del__\n",
            "    self._shutdown_workers()\n",
            "  File \"/usr/local/lib/python3.7/dist-packages/torch/utils/data/dataloader.py\", line 1493, in _shutdown_workers\n",
            "    if w.is_alive():\n",
            "  File \"/usr/lib/python3.7/multiprocessing/process.py\", line 151, in is_alive\n",
            "    assert self._parent_pid == os.getpid(), 'can only test a child process'\n",
            "AssertionError: can only test a child process\n",
            "100%|██████████| 93/93 [02:38<00:00,  1.70s/it]\n"
          ]
        },
        {
          "metadata": {
            "tags": null
          },
          "name": "stdout",
          "output_type": "stream",
          "text": [
            "avg_loss: 224.0023211202314\n",
            "log succeed!\n"
          ]
        },
        {
          "metadata": {
            "tags": null
          },
          "name": "stderr",
          "output_type": "stream",
          "text": [
            "test :   0%|          | 0/90 [00:00<?, ?it/s]/usr/local/lib/python3.7/dist-packages/imgaug/augmenters/segmentation.py:272: FutureWarning: skimage.measure.label's indexing starts from 0. In future version it will start from 1. To disable this warning, explicitely set the `start_label` parameter to 1.\n",
            "  image, n_segments=n_segments_samples[i], compactness=10)\n",
            "/usr/local/lib/python3.7/dist-packages/imgaug/augmenters/segmentation.py:272: FutureWarning: skimage.measure.label's indexing starts from 0. In future version it will start from 1. To disable this warning, explicitely set the `start_label` parameter to 1.\n",
            "  image, n_segments=n_segments_samples[i], compactness=10)\n",
            "test :   4%|▍         | 4/90 [00:07<02:14,  1.57s/it]Exception ignored in: <function _MultiProcessingDataLoaderIter.__del__ at 0x7fc37d6f67a0>\n",
            "Traceback (most recent call last):\n",
            "  File \"/usr/local/lib/python3.7/dist-packages/torch/utils/data/dataloader.py\", line 1510, in __del__\n",
            "    self._shutdown_workers()\n",
            "  File \"/usr/local/lib/python3.7/dist-packages/torch/utils/data/dataloader.py\", line 1493, in _shutdown_workers\n",
            "    if w.is_alive():\n",
            "  File \"/usr/lib/python3.7/multiprocessing/process.py\", line 151, in is_alive\n",
            "    assert self._parent_pid == os.getpid(), 'can only test a child process'\n",
            "AssertionError: can only test a child process\n",
            "test :   9%|▉         | 8/90 [00:16<02:27,  1.80s/it]Exception ignored in: <function _MultiProcessingDataLoaderIter.__del__ at 0x7fc37d6f67a0>\n",
            "Traceback (most recent call last):\n",
            "  File \"/usr/local/lib/python3.7/dist-packages/torch/utils/data/dataloader.py\", line 1510, in __del__\n",
            "    self._shutdown_workers()\n",
            "  File \"/usr/local/lib/python3.7/dist-packages/torch/utils/data/dataloader.py\", line 1493, in _shutdown_workers\n",
            "    if w.is_alive():\n",
            "  File \"/usr/lib/python3.7/multiprocessing/process.py\", line 151, in is_alive\n",
            "    assert self._parent_pid == os.getpid(), 'can only test a child process'\n",
            "AssertionError: can only test a child process\n",
            "test : 100%|██████████| 90/90 [02:27<00:00,  1.64s/it]\n"
          ]
        },
        {
          "metadata": {
            "tags": null
          },
          "name": "stdout",
          "output_type": "stream",
          "text": [
            "log succeed!\n",
            "========== Epoch 1 ==========\n"
          ]
        },
        {
          "metadata": {
            "tags": null
          },
          "name": "stderr",
          "output_type": "stream",
          "text": [
            "  0%|          | 0/93 [00:00<?, ?it/s]/usr/local/lib/python3.7/dist-packages/imgaug/augmenters/segmentation.py:272: FutureWarning: skimage.measure.label's indexing starts from 0. In future version it will start from 1. To disable this warning, explicitely set the `start_label` parameter to 1.\n",
            "  image, n_segments=n_segments_samples[i], compactness=10)\n",
            "/usr/local/lib/python3.7/dist-packages/imgaug/augmenters/segmentation.py:272: FutureWarning: skimage.measure.label's indexing starts from 0. In future version it will start from 1. To disable this warning, explicitely set the `start_label` parameter to 1.\n",
            "  image, n_segments=n_segments_samples[i], compactness=10)\n",
            "  5%|▌         | 5/93 [00:14<04:12,  2.87s/it]Exception ignored in: <function _MultiProcessingDataLoaderIter.__del__ at 0x7fc37d6f67a0>\n",
            "Traceback (most recent call last):\n",
            "  File \"/usr/local/lib/python3.7/dist-packages/torch/utils/data/dataloader.py\", line 1510, in __del__\n",
            "    self._shutdown_workers()assert self._parent_pid == os.getpid(), 'can only test a child process'\n",
            "  File \"/usr/local/lib/python3.7/dist-packages/torch/utils/data/dataloader.py\", line 1493, in _shutdown_workers\n",
            "    if w.is_alive():\n",
            "  File \"/usr/lib/python3.7/multiprocessing/process.py\", line 151, in is_alive\n",
            "    \n",
            "AssertionError: can only test a child process\n",
            "  9%|▊         | 8/93 [00:22<03:37,  2.56s/it]Exception ignored in: <function _MultiProcessingDataLoaderIter.__del__ at 0x7fc37d6f67a0>\n",
            "Traceback (most recent call last):\n",
            "  File \"/usr/local/lib/python3.7/dist-packages/torch/utils/data/dataloader.py\", line 1510, in __del__\n",
            "    self._shutdown_workers()\n",
            "  File \"/usr/local/lib/python3.7/dist-packages/torch/utils/data/dataloader.py\", line 1493, in _shutdown_workers\n",
            "    if w.is_alive():\n",
            "  File \"/usr/lib/python3.7/multiprocessing/process.py\", line 151, in is_alive\n",
            "    assert self._parent_pid == os.getpid(), 'can only test a child process'\n",
            "AssertionError: can only test a child process\n",
            "100%|██████████| 93/93 [02:55<00:00,  1.89s/it]\n"
          ]
        },
        {
          "metadata": {
            "tags": null
          },
          "name": "stdout",
          "output_type": "stream",
          "text": [
            "avg_loss: 28.823438182953865\n",
            "log succeed!\n"
          ]
        },
        {
          "metadata": {
            "tags": null
          },
          "name": "stderr",
          "output_type": "stream",
          "text": [
            "test :   0%|          | 0/90 [00:00<?, ?it/s]/usr/local/lib/python3.7/dist-packages/imgaug/augmenters/segmentation.py:272: FutureWarning: skimage.measure.label's indexing starts from 0. In future version it will start from 1. To disable this warning, explicitely set the `start_label` parameter to 1.\n",
            "  image, n_segments=n_segments_samples[i], compactness=10)\n",
            "/usr/local/lib/python3.7/dist-packages/imgaug/augmenters/segmentation.py:272: FutureWarning: skimage.measure.label's indexing starts from 0. In future version it will start from 1. To disable this warning, explicitely set the `start_label` parameter to 1.\n",
            "  image, n_segments=n_segments_samples[i], compactness=10)\n",
            "test :   7%|▋         | 6/90 [00:13<02:24,  1.72s/it]Exception ignored in: <function _MultiProcessingDataLoaderIter.__del__ at 0x7fc37d6f67a0>\n",
            "Traceback (most recent call last):\n",
            "  File \"/usr/local/lib/python3.7/dist-packages/torch/utils/data/dataloader.py\", line 1510, in __del__\n",
            "    self._shutdown_workers()\n",
            "  File \"/usr/local/lib/python3.7/dist-packages/torch/utils/data/dataloader.py\", line 1493, in _shutdown_workers\n",
            "    if w.is_alive():\n",
            "  File \"/usr/lib/python3.7/multiprocessing/process.py\", line 151, in is_alive\n",
            "    assert self._parent_pid == os.getpid(), 'can only test a child process'\n",
            "AssertionError: can only test a child process\n",
            "Exception ignored in: <function _MultiProcessingDataLoaderIter.__del__ at 0x7fc37d6f67a0>\n",
            "Traceback (most recent call last):\n",
            "  File \"/usr/local/lib/python3.7/dist-packages/torch/utils/data/dataloader.py\", line 1510, in __del__\n",
            "    self._shutdown_workers()\n",
            "  File \"/usr/local/lib/python3.7/dist-packages/torch/utils/data/dataloader.py\", line 1493, in _shutdown_workers\n",
            "    if w.is_alive():\n",
            "  File \"/usr/lib/python3.7/multiprocessing/process.py\", line 151, in is_alive\n",
            "    assert self._parent_pid == os.getpid(), 'can only test a child process'\n",
            "AssertionError: can only test a child process\n",
            "test : 100%|██████████| 90/90 [02:46<00:00,  1.85s/it]\n"
          ]
        },
        {
          "metadata": {
            "tags": null
          },
          "name": "stdout",
          "output_type": "stream",
          "text": [
            "log succeed!\n",
            "========== Epoch 2 ==========\n"
          ]
        },
        {
          "metadata": {
            "tags": null
          },
          "name": "stderr",
          "output_type": "stream",
          "text": [
            "  0%|          | 0/93 [00:00<?, ?it/s]/usr/local/lib/python3.7/dist-packages/imgaug/augmenters/segmentation.py:272: FutureWarning: skimage.measure.label's indexing starts from 0. In future version it will start from 1. To disable this warning, explicitely set the `start_label` parameter to 1.\n",
            "  image, n_segments=n_segments_samples[i], compactness=10)\n",
            "/usr/local/lib/python3.7/dist-packages/imgaug/augmenters/segmentation.py:272: FutureWarning: skimage.measure.label's indexing starts from 0. In future version it will start from 1. To disable this warning, explicitely set the `start_label` parameter to 1.\n",
            "  image, n_segments=n_segments_samples[i], compactness=10)\n",
            "  6%|▋         | 6/93 [00:19<03:37,  2.50s/it]Exception ignored in: <function _MultiProcessingDataLoaderIter.__del__ at 0x7fc37d6f67a0>\n",
            "Traceback (most recent call last):\n",
            "  File \"/usr/local/lib/python3.7/dist-packages/torch/utils/data/dataloader.py\", line 1510, in __del__\n",
            "    self._shutdown_workers()\n",
            "  File \"/usr/local/lib/python3.7/dist-packages/torch/utils/data/dataloader.py\", line 1493, in _shutdown_workers\n",
            "    if w.is_alive():\n",
            "  File \"/usr/lib/python3.7/multiprocessing/process.py\", line 151, in is_alive\n",
            "    assert self._parent_pid == os.getpid(), 'can only test a child process'\n",
            "AssertionError: can only test a child process\n",
            "Exception ignored in: <function _MultiProcessingDataLoaderIter.__del__ at 0x7fc37d6f67a0>\n",
            "Traceback (most recent call last):\n",
            "  File \"/usr/local/lib/python3.7/dist-packages/torch/utils/data/dataloader.py\", line 1510, in __del__\n",
            "    self._shutdown_workers()\n",
            "  File \"/usr/local/lib/python3.7/dist-packages/torch/utils/data/dataloader.py\", line 1493, in _shutdown_workers\n",
            "    if w.is_alive():\n",
            "  File \"/usr/lib/python3.7/multiprocessing/process.py\", line 151, in is_alive\n",
            "    assert self._parent_pid == os.getpid(), 'can only test a child process'\n",
            "AssertionError: can only test a child process\n",
            "100%|██████████| 93/93 [03:07<00:00,  2.02s/it]\n"
          ]
        },
        {
          "metadata": {
            "tags": null
          },
          "name": "stdout",
          "output_type": "stream",
          "text": [
            "avg_loss: 6.368261011697912\n",
            "log succeed!\n"
          ]
        },
        {
          "metadata": {
            "tags": null
          },
          "name": "stderr",
          "output_type": "stream",
          "text": [
            "test :   0%|          | 0/90 [00:00<?, ?it/s]/usr/local/lib/python3.7/dist-packages/imgaug/augmenters/segmentation.py:272: FutureWarning: skimage.measure.label's indexing starts from 0. In future version it will start from 1. To disable this warning, explicitely set the `start_label` parameter to 1.\n",
            "  image, n_segments=n_segments_samples[i], compactness=10)\n",
            "/usr/local/lib/python3.7/dist-packages/imgaug/augmenters/segmentation.py:272: FutureWarning: skimage.measure.label's indexing starts from 0. In future version it will start from 1. To disable this warning, explicitely set the `start_label` parameter to 1.\n",
            "  image, n_segments=n_segments_samples[i], compactness=10)\n",
            "test :   6%|▌         | 5/90 [00:14<03:58,  2.81s/it]Exception ignored in: <function _MultiProcessingDataLoaderIter.__del__ at 0x7fc37d6f67a0>\n",
            "Traceback (most recent call last):\n",
            "  File \"/usr/local/lib/python3.7/dist-packages/torch/utils/data/dataloader.py\", line 1510, in __del__\n",
            "    self._shutdown_workers()\n",
            "  File \"/usr/local/lib/python3.7/dist-packages/torch/utils/data/dataloader.py\", line 1493, in _shutdown_workers\n",
            "    if w.is_alive():\n",
            "  File \"/usr/lib/python3.7/multiprocessing/process.py\", line 151, in is_alive\n",
            "    assert self._parent_pid == os.getpid(), 'can only test a child process'\n",
            "AssertionError: can only test a child process\n",
            "test :   9%|▉         | 8/90 [00:21<03:19,  2.43s/it]Exception ignored in: <function _MultiProcessingDataLoaderIter.__del__ at 0x7fc37d6f67a0>\n",
            "Traceback (most recent call last):\n",
            "  File \"/usr/local/lib/python3.7/dist-packages/torch/utils/data/dataloader.py\", line 1510, in __del__\n",
            "    self._shutdown_workers()\n",
            "  File \"/usr/local/lib/python3.7/dist-packages/torch/utils/data/dataloader.py\", line 1493, in _shutdown_workers\n",
            "    if w.is_alive():\n",
            "  File \"/usr/lib/python3.7/multiprocessing/process.py\", line 151, in is_alive\n",
            "    assert self._parent_pid == os.getpid(), 'can only test a child process'\n",
            "AssertionError: can only test a child process\n",
            "test : 100%|██████████| 90/90 [03:02<00:00,  2.02s/it]\n"
          ]
        },
        {
          "metadata": {
            "tags": null
          },
          "name": "stdout",
          "output_type": "stream",
          "text": [
            "log succeed!\n",
            "========== Epoch 3 ==========\n"
          ]
        },
        {
          "metadata": {
            "tags": null
          },
          "name": "stderr",
          "output_type": "stream",
          "text": [
            "  0%|          | 0/93 [00:00<?, ?it/s]/usr/local/lib/python3.7/dist-packages/imgaug/augmenters/segmentation.py:272: FutureWarning: skimage.measure.label's indexing starts from 0. In future version it will start from 1. To disable this warning, explicitely set the `start_label` parameter to 1.\n",
            "  image, n_segments=n_segments_samples[i], compactness=10)\n",
            "/usr/local/lib/python3.7/dist-packages/imgaug/augmenters/segmentation.py:272: FutureWarning: skimage.measure.label's indexing starts from 0. In future version it will start from 1. To disable this warning, explicitely set the `start_label` parameter to 1.\n",
            "  image, n_segments=n_segments_samples[i], compactness=10)\n",
            "  4%|▍         | 4/93 [00:11<03:25,  2.31s/it]Exception ignored in: <function _MultiProcessingDataLoaderIter.__del__ at 0x7fc37d6f67a0>\n",
            "Traceback (most recent call last):\n",
            "  File \"/usr/local/lib/python3.7/dist-packages/torch/utils/data/dataloader.py\", line 1510, in __del__\n",
            "    self._shutdown_workers()\n",
            "  File \"/usr/local/lib/python3.7/dist-packages/torch/utils/data/dataloader.py\", line 1493, in _shutdown_workers\n",
            "    if w.is_alive():\n",
            "  File \"/usr/lib/python3.7/multiprocessing/process.py\", line 151, in is_alive\n",
            "    assert self._parent_pid == os.getpid(), 'can only test a child process'\n",
            "AssertionError: can only test a child process\n",
            "  6%|▋         | 6/93 [00:19<04:16,  2.94s/it]Exception ignored in: <function _MultiProcessingDataLoaderIter.__del__ at 0x7fc37d6f67a0>\n",
            "Traceback (most recent call last):\n",
            "  File \"/usr/local/lib/python3.7/dist-packages/torch/utils/data/dataloader.py\", line 1510, in __del__\n",
            "    self._shutdown_workers()\n",
            "  File \"/usr/local/lib/python3.7/dist-packages/torch/utils/data/dataloader.py\", line 1493, in _shutdown_workers\n",
            "    if w.is_alive():\n",
            "  File \"/usr/lib/python3.7/multiprocessing/process.py\", line 151, in is_alive\n",
            "    assert self._parent_pid == os.getpid(), 'can only test a child process'\n",
            "AssertionError: can only test a child process\n",
            "100%|██████████| 93/93 [02:54<00:00,  1.88s/it]\n"
          ]
        },
        {
          "metadata": {
            "tags": null
          },
          "name": "stdout",
          "output_type": "stream",
          "text": [
            "avg_loss: 3.557826119084512\n",
            "log succeed!\n"
          ]
        },
        {
          "metadata": {
            "tags": null
          },
          "name": "stderr",
          "output_type": "stream",
          "text": [
            "test :   0%|          | 0/90 [00:00<?, ?it/s]/usr/local/lib/python3.7/dist-packages/imgaug/augmenters/segmentation.py:272: FutureWarning: skimage.measure.label's indexing starts from 0. In future version it will start from 1. To disable this warning, explicitely set the `start_label` parameter to 1.\n",
            "  image, n_segments=n_segments_samples[i], compactness=10)\n",
            "/usr/local/lib/python3.7/dist-packages/imgaug/augmenters/segmentation.py:272: FutureWarning: skimage.measure.label's indexing starts from 0. In future version it will start from 1. To disable this warning, explicitely set the `start_label` parameter to 1.\n",
            "  image, n_segments=n_segments_samples[i], compactness=10)\n",
            "test :   7%|▋         | 6/90 [00:15<03:02,  2.17s/it]Exception ignored in: <function _MultiProcessingDataLoaderIter.__del__ at 0x7fc37d6f67a0>\n",
            "Traceback (most recent call last):\n",
            "  File \"/usr/local/lib/python3.7/dist-packages/torch/utils/data/dataloader.py\", line 1510, in __del__\n",
            "    self._shutdown_workers()\n",
            "  File \"/usr/local/lib/python3.7/dist-packages/torch/utils/data/dataloader.py\", line 1493, in _shutdown_workers\n",
            "    if w.is_alive():\n",
            "  File \"/usr/lib/python3.7/multiprocessing/process.py\", line 151, in is_alive\n",
            "    assert self._parent_pid == os.getpid(), 'can only test a child process'\n",
            "AssertionError: can only test a child process\n",
            "test :   8%|▊         | 7/90 [00:20<04:09,  3.01s/it]Exception ignored in: <function _MultiProcessingDataLoaderIter.__del__ at 0x7fc37d6f67a0>\n",
            "Traceback (most recent call last):\n",
            "  File \"/usr/local/lib/python3.7/dist-packages/torch/utils/data/dataloader.py\", line 1510, in __del__\n",
            "    self._shutdown_workers()\n",
            "  File \"/usr/local/lib/python3.7/dist-packages/torch/utils/data/dataloader.py\", line 1493, in _shutdown_workers\n",
            "test :   9%|▉         | 8/90 [00:20<02:54,  2.13s/it]\n",
            "  File \"/usr/lib/python3.7/multiprocessing/process.py\", line 151, in is_alive\n",
            "    assert self._parent_pid == os.getpid(), 'can only test a child process'\n",
            "AssertionError: can only test a child process\n",
            "test : 100%|██████████| 90/90 [03:04<00:00,  2.05s/it]\n"
          ]
        },
        {
          "metadata": {
            "tags": null
          },
          "name": "stdout",
          "output_type": "stream",
          "text": [
            "log succeed!\n",
            "========== Epoch 4 ==========\n"
          ]
        },
        {
          "metadata": {
            "tags": null
          },
          "name": "stderr",
          "output_type": "stream",
          "text": [
            "  0%|          | 0/93 [00:00<?, ?it/s]/usr/local/lib/python3.7/dist-packages/imgaug/augmenters/segmentation.py:272: FutureWarning: skimage.measure.label's indexing starts from 0. In future version it will start from 1. To disable this warning, explicitely set the `start_label` parameter to 1.\n",
            "  image, n_segments=n_segments_samples[i], compactness=10)\n",
            "/usr/local/lib/python3.7/dist-packages/imgaug/augmenters/segmentation.py:272: FutureWarning: skimage.measure.label's indexing starts from 0. In future version it will start from 1. To disable this warning, explicitely set the `start_label` parameter to 1.\n",
            "  image, n_segments=n_segments_samples[i], compactness=10)\n",
            "  4%|▍         | 4/93 [00:10<03:00,  2.03s/it]Exception ignored in: <function _MultiProcessingDataLoaderIter.__del__ at 0x7fc37d6f67a0>\n",
            "Traceback (most recent call last):\n",
            "  File \"/usr/local/lib/python3.7/dist-packages/torch/utils/data/dataloader.py\", line 1510, in __del__\n",
            "    self._shutdown_workers()\n",
            "  File \"/usr/local/lib/python3.7/dist-packages/torch/utils/data/dataloader.py\", line 1493, in _shutdown_workers\n",
            "    if w.is_alive():\n",
            "  File \"/usr/lib/python3.7/multiprocessing/process.py\", line 151, in is_alive\n",
            "    assert self._parent_pid == os.getpid(), 'can only test a child process'\n",
            "AssertionError: can only test a child process\n",
            "  6%|▋         | 6/93 [00:15<03:15,  2.25s/it]Exception ignored in: <function _MultiProcessingDataLoaderIter.__del__ at 0x7fc37d6f67a0>\n",
            "Traceback (most recent call last):\n",
            "  File \"/usr/local/lib/python3.7/dist-packages/torch/utils/data/dataloader.py\", line 1510, in __del__\n",
            "    self._shutdown_workers()\n",
            "  File \"/usr/local/lib/python3.7/dist-packages/torch/utils/data/dataloader.py\", line 1493, in _shutdown_workers\n",
            "    if w.is_alive():\n",
            "  File \"/usr/lib/python3.7/multiprocessing/process.py\", line 151, in is_alive\n",
            "    assert self._parent_pid == os.getpid(), 'can only test a child process'\n",
            "AssertionError: can only test a child process\n",
            "100%|██████████| 93/93 [03:02<00:00,  1.96s/it]\n"
          ]
        },
        {
          "metadata": {
            "tags": null
          },
          "name": "stdout",
          "output_type": "stream",
          "text": [
            "avg_loss: 2.5824820251875025\n",
            "log succeed!\n"
          ]
        },
        {
          "metadata": {
            "tags": null
          },
          "name": "stderr",
          "output_type": "stream",
          "text": [
            "test :   0%|          | 0/90 [00:00<?, ?it/s]/usr/local/lib/python3.7/dist-packages/imgaug/augmenters/segmentation.py:272: FutureWarning: skimage.measure.label's indexing starts from 0. In future version it will start from 1. To disable this warning, explicitely set the `start_label` parameter to 1.\n",
            "  image, n_segments=n_segments_samples[i], compactness=10)\n",
            "/usr/local/lib/python3.7/dist-packages/imgaug/augmenters/segmentation.py:272: FutureWarning: skimage.measure.label's indexing starts from 0. In future version it will start from 1. To disable this warning, explicitely set the `start_label` parameter to 1.\n",
            "  image, n_segments=n_segments_samples[i], compactness=10)\n",
            "test :   7%|▋         | 6/90 [00:14<02:54,  2.07s/it]Exception ignored in: <function _MultiProcessingDataLoaderIter.__del__ at 0x7fc37d6f67a0>\n",
            "Traceback (most recent call last):\n",
            "  File \"/usr/local/lib/python3.7/dist-packages/torch/utils/data/dataloader.py\", line 1510, in __del__\n",
            "    self._shutdown_workers()\n",
            "  File \"/usr/local/lib/python3.7/dist-packages/torch/utils/data/dataloader.py\", line 1493, in _shutdown_workers\n",
            "    if w.is_alive():\n",
            "  File \"/usr/lib/python3.7/multiprocessing/process.py\", line 151, in is_alive\n",
            "    assert self._parent_pid == os.getpid(), 'can only test a child process'\n",
            "AssertionError: can only test a child process\n",
            "test :   9%|▉         | 8/90 [00:19<02:50,  2.08s/it]Exception ignored in: <function _MultiProcessingDataLoaderIter.__del__ at 0x7fc37d6f67a0>\n",
            "Traceback (most recent call last):\n",
            "  File \"/usr/local/lib/python3.7/dist-packages/torch/utils/data/dataloader.py\", line 1510, in __del__\n",
            "    self._shutdown_workers()\n",
            "  File \"/usr/local/lib/python3.7/dist-packages/torch/utils/data/dataloader.py\", line 1493, in _shutdown_workers\n",
            "    if w.is_alive():\n",
            "  File \"/usr/lib/python3.7/multiprocessing/process.py\", line 151, in is_alive\n",
            "    assert self._parent_pid == os.getpid(), 'can only test a child process'\n",
            "AssertionError: can only test a child process\n",
            "test : 100%|██████████| 90/90 [03:05<00:00,  2.06s/it]\n"
          ]
        },
        {
          "metadata": {
            "tags": null
          },
          "name": "stdout",
          "output_type": "stream",
          "text": [
            "log succeed!\n",
            "========== Epoch 5 ==========\n"
          ]
        },
        {
          "metadata": {
            "tags": null
          },
          "name": "stderr",
          "output_type": "stream",
          "text": [
            "  0%|          | 0/93 [00:00<?, ?it/s]/usr/local/lib/python3.7/dist-packages/imgaug/augmenters/segmentation.py:272: FutureWarning: skimage.measure.label's indexing starts from 0. In future version it will start from 1. To disable this warning, explicitely set the `start_label` parameter to 1.\n",
            "  image, n_segments=n_segments_samples[i], compactness=10)\n",
            "/usr/local/lib/python3.7/dist-packages/imgaug/augmenters/segmentation.py:272: FutureWarning: skimage.measure.label's indexing starts from 0. In future version it will start from 1. To disable this warning, explicitely set the `start_label` parameter to 1.\n",
            "  image, n_segments=n_segments_samples[i], compactness=10)\n",
            "  4%|▍         | 4/93 [00:11<03:35,  2.42s/it]Exception ignored in: <function _MultiProcessingDataLoaderIter.__del__ at 0x7fc37d6f67a0>\n",
            "Traceback (most recent call last):\n",
            "  File \"/usr/local/lib/python3.7/dist-packages/torch/utils/data/dataloader.py\", line 1510, in __del__\n",
            "    self._shutdown_workers()\n",
            "  File \"/usr/local/lib/python3.7/dist-packages/torch/utils/data/dataloader.py\", line 1493, in _shutdown_workers\n",
            "    if w.is_alive():\n",
            "  File \"/usr/lib/python3.7/multiprocessing/process.py\", line 151, in is_alive\n",
            "    assert self._parent_pid == os.getpid(), 'can only test a child process'\n",
            "AssertionError: can only test a child process\n",
            "  6%|▋         | 6/93 [00:19<04:08,  2.86s/it]Exception ignored in: <function _MultiProcessingDataLoaderIter.__del__ at 0x7fc37d6f67a0>\n",
            "Traceback (most recent call last):\n",
            "  File \"/usr/local/lib/python3.7/dist-packages/torch/utils/data/dataloader.py\", line 1510, in __del__\n",
            "    self._shutdown_workers()\n",
            "  File \"/usr/local/lib/python3.7/dist-packages/torch/utils/data/dataloader.py\", line 1493, in _shutdown_workers\n",
            "    if w.is_alive():\n",
            "  File \"/usr/lib/python3.7/multiprocessing/process.py\", line 151, in is_alive\n",
            "    assert self._parent_pid == os.getpid(), 'can only test a child process'\n",
            "AssertionError: can only test a child process\n",
            "100%|██████████| 93/93 [03:14<00:00,  2.09s/it]\n"
          ]
        },
        {
          "metadata": {
            "tags": null
          },
          "name": "stdout",
          "output_type": "stream",
          "text": [
            "avg_loss: 2.26195332952725\n",
            "log succeed!\n"
          ]
        },
        {
          "metadata": {
            "tags": null
          },
          "name": "stderr",
          "output_type": "stream",
          "text": [
            "test :   0%|          | 0/90 [00:00<?, ?it/s]/usr/local/lib/python3.7/dist-packages/imgaug/augmenters/segmentation.py:272: FutureWarning: skimage.measure.label's indexing starts from 0. In future version it will start from 1. To disable this warning, explicitely set the `start_label` parameter to 1.\n",
            "  image, n_segments=n_segments_samples[i], compactness=10)\n",
            "/usr/local/lib/python3.7/dist-packages/imgaug/augmenters/segmentation.py:272: FutureWarning: skimage.measure.label's indexing starts from 0. In future version it will start from 1. To disable this warning, explicitely set the `start_label` parameter to 1.\n",
            "  image, n_segments=n_segments_samples[i], compactness=10)\n",
            "test :   4%|▍         | 4/90 [00:12<03:45,  2.63s/it]Exception ignored in: <function _MultiProcessingDataLoaderIter.__del__ at 0x7fc37d6f67a0>\n",
            "Traceback (most recent call last):\n",
            "  File \"/usr/local/lib/python3.7/dist-packages/torch/utils/data/dataloader.py\", line 1510, in __del__\n",
            "    self._shutdown_workers()\n",
            "  File \"/usr/local/lib/python3.7/dist-packages/torch/utils/data/dataloader.py\", line 1493, in _shutdown_workers\n",
            "    if w.is_alive():\n",
            "  File \"/usr/lib/python3.7/multiprocessing/process.py\", line 151, in is_alive\n",
            "    assert self._parent_pid == os.getpid(), 'can only test a child process'\n",
            "AssertionError: can only test a child process\n",
            "test :   7%|▋         | 6/90 [00:17<03:25,  2.44s/it]Exception ignored in: <function _MultiProcessingDataLoaderIter.__del__ at 0x7fc37d6f67a0>\n",
            "Traceback (most recent call last):\n",
            "  File \"/usr/local/lib/python3.7/dist-packages/torch/utils/data/dataloader.py\", line 1510, in __del__\n",
            "    self._shutdown_workers()\n",
            "  File \"/usr/local/lib/python3.7/dist-packages/torch/utils/data/dataloader.py\", line 1493, in _shutdown_workers\n",
            "    if w.is_alive():\n",
            "  File \"/usr/lib/python3.7/multiprocessing/process.py\", line 151, in is_alive\n",
            "    assert self._parent_pid == os.getpid(), 'can only test a child process'\n",
            "AssertionError: can only test a child process\n",
            "test : 100%|██████████| 90/90 [02:44<00:00,  1.83s/it]\n"
          ]
        },
        {
          "metadata": {
            "tags": null
          },
          "name": "stdout",
          "output_type": "stream",
          "text": [
            "log succeed!\n",
            "========== Epoch 6 ==========\n"
          ]
        },
        {
          "metadata": {
            "tags": null
          },
          "name": "stderr",
          "output_type": "stream",
          "text": [
            "  0%|          | 0/93 [00:00<?, ?it/s]/usr/local/lib/python3.7/dist-packages/imgaug/augmenters/segmentation.py:272: FutureWarning: skimage.measure.label's indexing starts from 0. In future version it will start from 1. To disable this warning, explicitely set the `start_label` parameter to 1.\n",
            "  image, n_segments=n_segments_samples[i], compactness=10)\n",
            "/usr/local/lib/python3.7/dist-packages/imgaug/augmenters/segmentation.py:272: FutureWarning: skimage.measure.label's indexing starts from 0. In future version it will start from 1. To disable this warning, explicitely set the `start_label` parameter to 1.\n",
            "  image, n_segments=n_segments_samples[i], compactness=10)\n",
            "  6%|▋         | 6/93 [00:19<04:24,  3.04s/it]Exception ignored in: <function _MultiProcessingDataLoaderIter.__del__ at 0x7fc37d6f67a0>\n",
            "Traceback (most recent call last):\n",
            "  File \"/usr/local/lib/python3.7/dist-packages/torch/utils/data/dataloader.py\", line 1510, in __del__\n",
            "    self._shutdown_workers()\n",
            "  File \"/usr/local/lib/python3.7/dist-packages/torch/utils/data/dataloader.py\", line 1493, in _shutdown_workers\n",
            "    if w.is_alive():\n",
            "  File \"/usr/lib/python3.7/multiprocessing/process.py\", line 151, in is_alive\n",
            "    assert self._parent_pid == os.getpid(), 'can only test a child process'\n",
            "AssertionError: can only test a child process\n",
            "  8%|▊         | 7/93 [00:24<05:11,  3.62s/it]Exception ignored in: <function _MultiProcessingDataLoaderIter.__del__ at 0x7fc37d6f67a0>\n",
            "Traceback (most recent call last):\n",
            "  File \"/usr/local/lib/python3.7/dist-packages/torch/utils/data/dataloader.py\", line 1510, in __del__\n",
            "    self._shutdown_workers()\n",
            "  File \"/usr/local/lib/python3.7/dist-packages/torch/utils/data/dataloader.py\", line 1493, in _shutdown_workers\n",
            "    if w.is_alive():\n",
            "  File \"/usr/lib/python3.7/multiprocessing/process.py\", line 151, in is_alive\n",
            "    assert self._parent_pid == os.getpid(), 'can only test a child process'\n",
            "AssertionError: can only test a child process\n",
            "100%|██████████| 93/93 [03:11<00:00,  2.06s/it]\n"
          ]
        },
        {
          "metadata": {
            "tags": null
          },
          "name": "stdout",
          "output_type": "stream",
          "text": [
            "avg_loss: 1.827925935868294\n",
            "log succeed!\n"
          ]
        },
        {
          "metadata": {
            "tags": null
          },
          "name": "stderr",
          "output_type": "stream",
          "text": [
            "test :   0%|          | 0/90 [00:00<?, ?it/s]/usr/local/lib/python3.7/dist-packages/imgaug/augmenters/segmentation.py:272: FutureWarning: skimage.measure.label's indexing starts from 0. In future version it will start from 1. To disable this warning, explicitely set the `start_label` parameter to 1.\n",
            "  image, n_segments=n_segments_samples[i], compactness=10)\n",
            "/usr/local/lib/python3.7/dist-packages/imgaug/augmenters/segmentation.py:272: FutureWarning: skimage.measure.label's indexing starts from 0. In future version it will start from 1. To disable this warning, explicitely set the `start_label` parameter to 1.\n",
            "  image, n_segments=n_segments_samples[i], compactness=10)\n",
            "test :   6%|▌         | 5/90 [00:13<03:53,  2.75s/it]Exception ignored in: <function _MultiProcessingDataLoaderIter.__del__ at 0x7fc37d6f67a0>\n",
            "Traceback (most recent call last):\n",
            "  File \"/usr/local/lib/python3.7/dist-packages/torch/utils/data/dataloader.py\", line 1510, in __del__\n",
            "    self._shutdown_workers()\n",
            "  File \"/usr/local/lib/python3.7/dist-packages/torch/utils/data/dataloader.py\", line 1493, in _shutdown_workers\n",
            "    if w.is_alive():\n",
            "  File \"/usr/lib/python3.7/multiprocessing/process.py\", line 151, in is_alive\n",
            "    assert self._parent_pid == os.getpid(), 'can only test a child process'\n",
            "test :   7%|▋         | 6/90 [00:14<02:56,  2.10s/it]AssertionError: can only test a child process\n",
            "Exception ignored in: <function _MultiProcessingDataLoaderIter.__del__ at 0x7fc37d6f67a0>\n",
            "Traceback (most recent call last):\n",
            "  File \"/usr/local/lib/python3.7/dist-packages/torch/utils/data/dataloader.py\", line 1510, in __del__\n",
            "    self._shutdown_workers()\n",
            "  File \"/usr/local/lib/python3.7/dist-packages/torch/utils/data/dataloader.py\", line 1493, in _shutdown_workers\n",
            "    if w.is_alive():\n",
            "  File \"/usr/lib/python3.7/multiprocessing/process.py\", line 151, in is_alive\n",
            "    assert self._parent_pid == os.getpid(), 'can only test a child process': \n",
            "AssertionErrorcan only test a child process\n",
            "test : 100%|██████████| 90/90 [03:05<00:00,  2.06s/it]\n"
          ]
        },
        {
          "metadata": {
            "tags": null
          },
          "name": "stdout",
          "output_type": "stream",
          "text": [
            "log succeed!\n",
            "========== Epoch 7 ==========\n"
          ]
        },
        {
          "metadata": {
            "tags": null
          },
          "name": "stderr",
          "output_type": "stream",
          "text": [
            "  0%|          | 0/93 [00:00<?, ?it/s]/usr/local/lib/python3.7/dist-packages/imgaug/augmenters/segmentation.py:272: FutureWarning: skimage.measure.label's indexing starts from 0. In future version it will start from 1. To disable this warning, explicitely set the `start_label` parameter to 1.\n",
            "  image, n_segments=n_segments_samples[i], compactness=10)\n",
            "/usr/local/lib/python3.7/dist-packages/imgaug/augmenters/segmentation.py:272: FutureWarning: skimage.measure.label's indexing starts from 0. In future version it will start from 1. To disable this warning, explicitely set the `start_label` parameter to 1.\n",
            "  image, n_segments=n_segments_samples[i], compactness=10)\n",
            "  6%|▋         | 6/93 [00:16<03:25,  2.36s/it]Exception ignored in: <function _MultiProcessingDataLoaderIter.__del__ at 0x7fc37d6f67a0>\n",
            "Traceback (most recent call last):\n",
            "  File \"/usr/local/lib/python3.7/dist-packages/torch/utils/data/dataloader.py\", line 1510, in __del__\n",
            "    self._shutdown_workers()\n",
            "  File \"/usr/local/lib/python3.7/dist-packages/torch/utils/data/dataloader.py\", line 1493, in _shutdown_workers\n",
            "    if w.is_alive():\n",
            "  File \"/usr/lib/python3.7/multiprocessing/process.py\", line 151, in is_alive\n",
            "    assert self._parent_pid == os.getpid(), 'can only test a child process'\n",
            "AssertionError: can only test a child process\n",
            "Exception ignored in: <function _MultiProcessingDataLoaderIter.__del__ at 0x7fc37d6f67a0>\n",
            "Traceback (most recent call last):\n",
            "  File \"/usr/local/lib/python3.7/dist-packages/torch/utils/data/dataloader.py\", line 1510, in __del__\n",
            "    self._shutdown_workers()\n",
            "  File \"/usr/local/lib/python3.7/dist-packages/torch/utils/data/dataloader.py\", line 1493, in _shutdown_workers\n",
            "    if w.is_alive():\n",
            "  File \"/usr/lib/python3.7/multiprocessing/process.py\", line 151, in is_alive\n",
            "    assert self._parent_pid == os.getpid(), 'can only test a child process'\n",
            "AssertionError: can only test a child process\n",
            "100%|██████████| 93/93 [02:51<00:00,  1.85s/it]\n"
          ]
        },
        {
          "metadata": {
            "tags": null
          },
          "name": "stdout",
          "output_type": "stream",
          "text": [
            "avg_loss: 1.753933020176426\n",
            "log succeed!\n"
          ]
        },
        {
          "metadata": {
            "tags": null
          },
          "name": "stderr",
          "output_type": "stream",
          "text": [
            "test :   0%|          | 0/90 [00:00<?, ?it/s]/usr/local/lib/python3.7/dist-packages/imgaug/augmenters/segmentation.py:272: FutureWarning: skimage.measure.label's indexing starts from 0. In future version it will start from 1. To disable this warning, explicitely set the `start_label` parameter to 1.\n",
            "  image, n_segments=n_segments_samples[i], compactness=10)\n",
            "/usr/local/lib/python3.7/dist-packages/imgaug/augmenters/segmentation.py:272: FutureWarning: skimage.measure.label's indexing starts from 0. In future version it will start from 1. To disable this warning, explicitely set the `start_label` parameter to 1.\n",
            "  image, n_segments=n_segments_samples[i], compactness=10)\n",
            "test :   7%|▋         | 6/90 [00:14<02:55,  2.09s/it]Exception ignored in: <function _MultiProcessingDataLoaderIter.__del__ at 0x7fc37d6f67a0>\n",
            "Traceback (most recent call last):\n",
            "  File \"/usr/local/lib/python3.7/dist-packages/torch/utils/data/dataloader.py\", line 1510, in __del__\n",
            "    self._shutdown_workers()\n",
            "  File \"/usr/local/lib/python3.7/dist-packages/torch/utils/data/dataloader.py\", line 1493, in _shutdown_workers\n",
            "    if w.is_alive():\n",
            "  File \"/usr/lib/python3.7/multiprocessing/process.py\", line 151, in is_alive\n",
            "    assert self._parent_pid == os.getpid(), 'can only test a child process'\n",
            "AssertionError: can only test a child process\n",
            "test :   9%|▉         | 8/90 [00:19<02:35,  1.89s/it]Exception ignored in: <function _MultiProcessingDataLoaderIter.__del__ at 0x7fc37d6f67a0>\n",
            "Traceback (most recent call last):\n",
            "  File \"/usr/local/lib/python3.7/dist-packages/torch/utils/data/dataloader.py\", line 1510, in __del__\n",
            "    self._shutdown_workers()\n",
            "  File \"/usr/local/lib/python3.7/dist-packages/torch/utils/data/dataloader.py\", line 1493, in _shutdown_workers\n",
            "    if w.is_alive():\n",
            "  File \"/usr/lib/python3.7/multiprocessing/process.py\", line 151, in is_alive\n",
            "    assert self._parent_pid == os.getpid(), 'can only test a child process'\n",
            "AssertionError: can only test a child process\n",
            "test : 100%|██████████| 90/90 [03:00<00:00,  2.00s/it]\n"
          ]
        },
        {
          "metadata": {
            "tags": null
          },
          "name": "stdout",
          "output_type": "stream",
          "text": [
            "log succeed!\n",
            "========== Epoch 8 ==========\n"
          ]
        },
        {
          "metadata": {
            "tags": null
          },
          "name": "stderr",
          "output_type": "stream",
          "text": [
            "  0%|          | 0/93 [00:00<?, ?it/s]/usr/local/lib/python3.7/dist-packages/imgaug/augmenters/segmentation.py:272: FutureWarning: skimage.measure.label's indexing starts from 0. In future version it will start from 1. To disable this warning, explicitely set the `start_label` parameter to 1.\n",
            "  image, n_segments=n_segments_samples[i], compactness=10)\n",
            "/usr/local/lib/python3.7/dist-packages/imgaug/augmenters/segmentation.py:272: FutureWarning: skimage.measure.label's indexing starts from 0. In future version it will start from 1. To disable this warning, explicitely set the `start_label` parameter to 1.\n",
            "  image, n_segments=n_segments_samples[i], compactness=10)\n",
            "  4%|▍         | 4/93 [00:12<03:50,  2.59s/it]Exception ignored in: <function _MultiProcessingDataLoaderIter.__del__ at 0x7fc37d6f67a0>\n",
            "Traceback (most recent call last):\n",
            "  File \"/usr/local/lib/python3.7/dist-packages/torch/utils/data/dataloader.py\", line 1510, in __del__\n",
            "    self._shutdown_workers()\n",
            "  File \"/usr/local/lib/python3.7/dist-packages/torch/utils/data/dataloader.py\", line 1493, in _shutdown_workers\n",
            "    if w.is_alive():\n",
            "  File \"/usr/lib/python3.7/multiprocessing/process.py\", line 151, in is_alive\n",
            "    assert self._parent_pid == os.getpid(), 'can only test a child process'\n",
            "AssertionError: can only test a child process\n",
            "  6%|▋         | 6/93 [00:18<03:37,  2.49s/it]Exception ignored in: <function _MultiProcessingDataLoaderIter.__del__ at 0x7fc37d6f67a0>\n",
            "Traceback (most recent call last):\n",
            "  File \"/usr/local/lib/python3.7/dist-packages/torch/utils/data/dataloader.py\", line 1510, in __del__\n",
            "    self._shutdown_workers()\n",
            "  File \"/usr/local/lib/python3.7/dist-packages/torch/utils/data/dataloader.py\", line 1493, in _shutdown_workers\n",
            "    if w.is_alive():\n",
            "  File \"/usr/lib/python3.7/multiprocessing/process.py\", line 151, in is_alive\n",
            "    assert self._parent_pid == os.getpid(), 'can only test a child process'\n",
            "AssertionError: can only test a child process\n",
            "100%|██████████| 93/93 [03:17<00:00,  2.12s/it]\n"
          ]
        },
        {
          "metadata": {
            "tags": null
          },
          "name": "stdout",
          "output_type": "stream",
          "text": [
            "avg_loss: 1.4913371000238644\n",
            "log succeed!\n"
          ]
        },
        {
          "metadata": {
            "tags": null
          },
          "name": "stderr",
          "output_type": "stream",
          "text": [
            "test :   0%|          | 0/90 [00:00<?, ?it/s]/usr/local/lib/python3.7/dist-packages/imgaug/augmenters/segmentation.py:272: FutureWarning: skimage.measure.label's indexing starts from 0. In future version it will start from 1. To disable this warning, explicitely set the `start_label` parameter to 1.\n",
            "  image, n_segments=n_segments_samples[i], compactness=10)\n",
            "/usr/local/lib/python3.7/dist-packages/imgaug/augmenters/segmentation.py:272: FutureWarning: skimage.measure.label's indexing starts from 0. In future version it will start from 1. To disable this warning, explicitely set the `start_label` parameter to 1.\n",
            "  image, n_segments=n_segments_samples[i], compactness=10)\n",
            "test :   4%|▍         | 4/90 [00:10<03:08,  2.19s/it]Exception ignored in: <function _MultiProcessingDataLoaderIter.__del__ at 0x7fc37d6f67a0>\n",
            "Traceback (most recent call last):\n",
            "  File \"/usr/local/lib/python3.7/dist-packages/torch/utils/data/dataloader.py\", line 1510, in __del__\n",
            "    self._shutdown_workers()\n",
            "  File \"/usr/local/lib/python3.7/dist-packages/torch/utils/data/dataloader.py\", line 1493, in _shutdown_workers\n",
            "    if w.is_alive():\n",
            "  File \"/usr/lib/python3.7/multiprocessing/process.py\", line 151, in is_alive\n",
            "    assert self._parent_pid == os.getpid(), 'can only test a child process'\n",
            "AssertionError: can only test a child process\n",
            "test :   7%|▋         | 6/90 [00:18<03:56,  2.82s/it]Exception ignored in: <function _MultiProcessingDataLoaderIter.__del__ at 0x7fc37d6f67a0>\n",
            "Traceback (most recent call last):\n",
            "  File \"/usr/local/lib/python3.7/dist-packages/torch/utils/data/dataloader.py\", line 1510, in __del__\n",
            "    self._shutdown_workers()\n",
            "  File \"/usr/local/lib/python3.7/dist-packages/torch/utils/data/dataloader.py\", line 1493, in _shutdown_workers\n",
            "    if w.is_alive():\n",
            "  File \"/usr/lib/python3.7/multiprocessing/process.py\", line 151, in is_alive\n",
            "    assert self._parent_pid == os.getpid(), 'can only test a child process'\n",
            "AssertionError: can only test a child process\n",
            "test : 100%|██████████| 90/90 [02:52<00:00,  1.91s/it]\n"
          ]
        },
        {
          "metadata": {
            "tags": null
          },
          "name": "stdout",
          "output_type": "stream",
          "text": [
            "log succeed!\n",
            "========== Epoch 9 ==========\n"
          ]
        },
        {
          "output_type": "stream",
          "name": "stderr",
          "text": [
            "  0%|          | 0/93 [00:00<?, ?it/s]/usr/local/lib/python3.7/dist-packages/imgaug/augmenters/segmentation.py:272: FutureWarning: skimage.measure.label's indexing starts from 0. In future version it will start from 1. To disable this warning, explicitely set the `start_label` parameter to 1.\n",
            "  image, n_segments=n_segments_samples[i], compactness=10)\n",
            "/usr/local/lib/python3.7/dist-packages/imgaug/augmenters/segmentation.py:272: FutureWarning: skimage.measure.label's indexing starts from 0. In future version it will start from 1. To disable this warning, explicitely set the `start_label` parameter to 1.\n",
            "  image, n_segments=n_segments_samples[i], compactness=10)\n",
            "  6%|▋         | 6/93 [00:17<03:29,  2.41s/it]Exception ignored in: <function _MultiProcessingDataLoaderIter.__del__ at 0x7fc37d6f67a0>\n",
            "Traceback (most recent call last):\n",
            "  File \"/usr/local/lib/python3.7/dist-packages/torch/utils/data/dataloader.py\", line 1510, in __del__\n",
            "    self._shutdown_workers()\n",
            "  File \"/usr/local/lib/python3.7/dist-packages/torch/utils/data/dataloader.py\", line 1493, in _shutdown_workers\n",
            "    if w.is_alive():\n",
            "  File \"/usr/lib/python3.7/multiprocessing/process.py\", line 151, in is_alive\n",
            "    assert self._parent_pid == os.getpid(), 'can only test a child process'\n",
            "AssertionError: can only test a child process\n",
            "Exception ignored in: <function _MultiProcessingDataLoaderIter.__del__ at 0x7fc37d6f67a0>\n",
            "Traceback (most recent call last):\n",
            "  File \"/usr/local/lib/python3.7/dist-packages/torch/utils/data/dataloader.py\", line 1510, in __del__\n",
            "    self._shutdown_workers()\n",
            "  File \"/usr/local/lib/python3.7/dist-packages/torch/utils/data/dataloader.py\", line 1493, in _shutdown_workers\n",
            "    if w.is_alive():\n",
            "  File \"/usr/lib/python3.7/multiprocessing/process.py\", line 151, in is_alive\n",
            "    assert self._parent_pid == os.getpid(), 'can only test a child process'\n",
            "AssertionError: can only test a child process\n",
            "100%|██████████| 93/93 [03:17<00:00,  2.13s/it]\n"
          ]
        },
        {
          "output_type": "stream",
          "name": "stdout",
          "text": [
            "avg_loss: 1.4020062755512934\n",
            "log succeed!\n"
          ]
        },
        {
          "output_type": "stream",
          "name": "stderr",
          "text": [
            "\rtest :   0%|          | 0/90 [00:00<?, ?it/s]/usr/local/lib/python3.7/dist-packages/imgaug/augmenters/segmentation.py:272: FutureWarning: skimage.measure.label's indexing starts from 0. In future version it will start from 1. To disable this warning, explicitely set the `start_label` parameter to 1.\n",
            "  image, n_segments=n_segments_samples[i], compactness=10)\n",
            "/usr/local/lib/python3.7/dist-packages/imgaug/augmenters/segmentation.py:272: FutureWarning: skimage.measure.label's indexing starts from 0. In future version it will start from 1. To disable this warning, explicitely set the `start_label` parameter to 1.\n",
            "  image, n_segments=n_segments_samples[i], compactness=10)\n",
            "test :   7%|▋         | 6/90 [00:17<03:04,  2.20s/it]Exception ignored in: <function _MultiProcessingDataLoaderIter.__del__ at 0x7fc37d6f67a0>\n",
            "Traceback (most recent call last):\n",
            "  File \"/usr/local/lib/python3.7/dist-packages/torch/utils/data/dataloader.py\", line 1510, in __del__\n",
            "    self._shutdown_workers()\n",
            "  File \"/usr/local/lib/python3.7/dist-packages/torch/utils/data/dataloader.py\", line 1493, in _shutdown_workers\n",
            "    if w.is_alive():\n",
            "  File \"/usr/lib/python3.7/multiprocessing/process.py\", line 151, in is_alive\n",
            "    assert self._parent_pid == os.getpid(), 'can only test a child process'\n",
            "AssertionError: can only test a child process\n",
            "test :   9%|▉         | 8/90 [00:23<03:17,  2.40s/it]Exception ignored in: <function _MultiProcessingDataLoaderIter.__del__ at 0x7fc37d6f67a0>\n",
            "Traceback (most recent call last):\n",
            "  File \"/usr/local/lib/python3.7/dist-packages/torch/utils/data/dataloader.py\", line 1510, in __del__\n",
            "    self._shutdown_workers()\n",
            "  File \"/usr/local/lib/python3.7/dist-packages/torch/utils/data/dataloader.py\", line 1493, in _shutdown_workers\n",
            "    if w.is_alive():\n",
            "  File \"/usr/lib/python3.7/multiprocessing/process.py\", line 151, in is_alive\n",
            "    assert self._parent_pid == os.getpid(), 'can only test a child process'\n",
            "AssertionError: can only test a child process\n",
            "test : 100%|██████████| 90/90 [02:47<00:00,  1.86s/it]\n"
          ]
        },
        {
          "output_type": "stream",
          "name": "stdout",
          "text": [
            "log succeed!\n",
            "========== Epoch 10 ==========\n"
          ]
        },
        {
          "output_type": "stream",
          "name": "stderr",
          "text": [
            "\r  0%|          | 0/93 [00:00<?, ?it/s]/usr/local/lib/python3.7/dist-packages/imgaug/augmenters/segmentation.py:272: FutureWarning: skimage.measure.label's indexing starts from 0. In future version it will start from 1. To disable this warning, explicitely set the `start_label` parameter to 1.\n",
            "  image, n_segments=n_segments_samples[i], compactness=10)\n",
            "/usr/local/lib/python3.7/dist-packages/imgaug/augmenters/segmentation.py:272: FutureWarning: skimage.measure.label's indexing starts from 0. In future version it will start from 1. To disable this warning, explicitely set the `start_label` parameter to 1.\n",
            "  image, n_segments=n_segments_samples[i], compactness=10)\n",
            "  4%|▍         | 4/93 [00:11<03:20,  2.26s/it]Exception ignored in: <function _MultiProcessingDataLoaderIter.__del__ at 0x7fc37d6f67a0>\n",
            "Traceback (most recent call last):\n",
            "  File \"/usr/local/lib/python3.7/dist-packages/torch/utils/data/dataloader.py\", line 1510, in __del__\n",
            "    self._shutdown_workers()\n",
            "  File \"/usr/local/lib/python3.7/dist-packages/torch/utils/data/dataloader.py\", line 1493, in _shutdown_workers\n",
            "    if w.is_alive():\n",
            "  File \"/usr/lib/python3.7/multiprocessing/process.py\", line 151, in is_alive\n",
            "    assert self._parent_pid == os.getpid(), 'can only test a child process'\n",
            "AssertionError: can only test a child process\n",
            "  6%|▋         | 6/93 [00:16<03:18,  2.29s/it]Exception ignored in: <function _MultiProcessingDataLoaderIter.__del__ at 0x7fc37d6f67a0>\n",
            "Traceback (most recent call last):\n",
            "  File \"/usr/local/lib/python3.7/dist-packages/torch/utils/data/dataloader.py\", line 1510, in __del__\n",
            "    self._shutdown_workers()\n",
            "  File \"/usr/local/lib/python3.7/dist-packages/torch/utils/data/dataloader.py\", line 1493, in _shutdown_workers\n",
            "    if w.is_alive():\n",
            "  File \"/usr/lib/python3.7/multiprocessing/process.py\", line 151, in is_alive\n",
            "    assert self._parent_pid == os.getpid(), 'can only test a child process'\n",
            "AssertionError: can only test a child process\n",
            "100%|██████████| 93/93 [02:52<00:00,  1.85s/it]\n"
          ]
        },
        {
          "output_type": "stream",
          "name": "stdout",
          "text": [
            "avg_loss: 1.2670420344157884\n",
            "log succeed!\n"
          ]
        },
        {
          "output_type": "stream",
          "name": "stderr",
          "text": [
            "\rtest :   0%|          | 0/90 [00:00<?, ?it/s]/usr/local/lib/python3.7/dist-packages/imgaug/augmenters/segmentation.py:272: FutureWarning: skimage.measure.label's indexing starts from 0. In future version it will start from 1. To disable this warning, explicitely set the `start_label` parameter to 1.\n",
            "  image, n_segments=n_segments_samples[i], compactness=10)\n",
            "/usr/local/lib/python3.7/dist-packages/imgaug/augmenters/segmentation.py:272: FutureWarning: skimage.measure.label's indexing starts from 0. In future version it will start from 1. To disable this warning, explicitely set the `start_label` parameter to 1.\n",
            "  image, n_segments=n_segments_samples[i], compactness=10)\n",
            "test :   8%|▊         | 7/90 [00:17<02:52,  2.08s/it]Exception ignored in: <function _MultiProcessingDataLoaderIter.__del__ at 0x7fc37d6f67a0>\n",
            "Traceback (most recent call last):\n",
            "  File \"/usr/local/lib/python3.7/dist-packages/torch/utils/data/dataloader.py\", line 1510, in __del__\n",
            "    self._shutdown_workers()\n",
            "  File \"/usr/local/lib/python3.7/dist-packages/torch/utils/data/dataloader.py\", line 1493, in _shutdown_workers\n",
            "    if w.is_alive():\n",
            "  File \"/usr/lib/python3.7/multiprocessing/process.py\", line 151, in is_alive\n",
            "    assert self._parent_pid == os.getpid(), 'can only test a child process'\n",
            "AssertionError: can only test a child process\n",
            "Exception ignored in: <function _MultiProcessingDataLoaderIter.__del__ at 0x7fc37d6f67a0>\n",
            "Traceback (most recent call last):\n",
            "  File \"/usr/local/lib/python3.7/dist-packages/torch/utils/data/dataloader.py\", line 1510, in __del__\n",
            "    self._shutdown_workers()\n",
            "  File \"/usr/local/lib/python3.7/dist-packages/torch/utils/data/dataloader.py\", line 1493, in _shutdown_workers\n",
            "    if w.is_alive():\n",
            "  File \"/usr/lib/python3.7/multiprocessing/process.py\", line 151, in is_alive\n",
            "    assert self._parent_pid == os.getpid(), 'can only test a child process'\n",
            "AssertionError: can only test a child process\n",
            "test : 100%|██████████| 90/90 [02:57<00:00,  1.98s/it]\n"
          ]
        },
        {
          "output_type": "stream",
          "name": "stdout",
          "text": [
            "log succeed!\n",
            "========== Epoch 11 ==========\n"
          ]
        },
        {
          "output_type": "stream",
          "name": "stderr",
          "text": [
            "\r  0%|          | 0/93 [00:00<?, ?it/s]/usr/local/lib/python3.7/dist-packages/imgaug/augmenters/segmentation.py:272: FutureWarning: skimage.measure.label's indexing starts from 0. In future version it will start from 1. To disable this warning, explicitely set the `start_label` parameter to 1.\n",
            "  image, n_segments=n_segments_samples[i], compactness=10)\n",
            "/usr/local/lib/python3.7/dist-packages/imgaug/augmenters/segmentation.py:272: FutureWarning: skimage.measure.label's indexing starts from 0. In future version it will start from 1. To disable this warning, explicitely set the `start_label` parameter to 1.\n",
            "  image, n_segments=n_segments_samples[i], compactness=10)\n",
            "  5%|▌         | 5/93 [00:13<03:53,  2.65s/it]Exception ignored in: <function _MultiProcessingDataLoaderIter.__del__ at 0x7fc37d6f67a0>\n",
            "Traceback (most recent call last):\n",
            "  File \"/usr/local/lib/python3.7/dist-packages/torch/utils/data/dataloader.py\", line 1510, in __del__\n",
            "    self._shutdown_workers()\n",
            "  File \"/usr/local/lib/python3.7/dist-packages/torch/utils/data/dataloader.py\", line 1493, in _shutdown_workers\n",
            "    if w.is_alive():\n",
            "  File \"/usr/lib/python3.7/multiprocessing/process.py\", line 151, in is_alive\n",
            "    assert self._parent_pid == os.getpid(), 'can only test a child process'\n",
            "AssertionError: can only test a child process\n",
            "  9%|▊         | 8/93 [00:23<04:35,  3.24s/it]Exception ignored in: <function _MultiProcessingDataLoaderIter.__del__ at 0x7fc37d6f67a0>\n",
            "Traceback (most recent call last):\n",
            "  File \"/usr/local/lib/python3.7/dist-packages/torch/utils/data/dataloader.py\", line 1510, in __del__\n",
            "    self._shutdown_workers()\n",
            "  File \"/usr/local/lib/python3.7/dist-packages/torch/utils/data/dataloader.py\", line 1493, in _shutdown_workers\n",
            "    if w.is_alive():\n",
            "  File \"/usr/lib/python3.7/multiprocessing/process.py\", line 151, in is_alive\n",
            "    assert self._parent_pid == os.getpid(), 'can only test a child process'\n",
            "AssertionError: can only test a child process\n",
            " 17%|█▋        | 16/93 [00:39<03:12,  2.50s/it]\n"
          ]
        },
        {
          "output_type": "error",
          "ename": "KeyboardInterrupt",
          "evalue": "ignored",
          "traceback": [
            "\u001b[0;31m---------------------------------------------------------------------------\u001b[0m",
            "\u001b[0;31mKeyboardInterrupt\u001b[0m                         Traceback (most recent call last)",
            "\u001b[0;32m<ipython-input-17-568b6877992f>\u001b[0m in \u001b[0;36m<module>\u001b[0;34m\u001b[0m\n\u001b[1;32m     59\u001b[0m \u001b[0;34m\u001b[0m\u001b[0m\n\u001b[1;32m     60\u001b[0m \u001b[0;32mif\u001b[0m \u001b[0m__name__\u001b[0m \u001b[0;34m==\u001b[0m \u001b[0;34m'__main__'\u001b[0m\u001b[0;34m:\u001b[0m\u001b[0;34m\u001b[0m\u001b[0;34m\u001b[0m\u001b[0m\n\u001b[0;32m---> 61\u001b[0;31m     \u001b[0mmain\u001b[0m\u001b[0;34m(\u001b[0m\u001b[0;34m)\u001b[0m\u001b[0;34m\u001b[0m\u001b[0;34m\u001b[0m\u001b[0m\n\u001b[0m",
            "\u001b[0;32m<ipython-input-17-568b6877992f>\u001b[0m in \u001b[0;36mmain\u001b[0;34m()\u001b[0m\n\u001b[1;32m     48\u001b[0m           \u001b[0mtrain_evaluator\u001b[0m\u001b[0;34m=\u001b[0m\u001b[0mtrain_evaluator\u001b[0m\u001b[0;34m,\u001b[0m\u001b[0;34m\u001b[0m\u001b[0;34m\u001b[0m\u001b[0m\n\u001b[1;32m     49\u001b[0m           \u001b[0mval_evaluator\u001b[0m\u001b[0;34m=\u001b[0m\u001b[0mtest_evaluator\u001b[0m\u001b[0;34m,\u001b[0m\u001b[0;34m\u001b[0m\u001b[0;34m\u001b[0m\u001b[0m\n\u001b[0;32m---> 50\u001b[0;31m           log=log)\n\u001b[0m\u001b[1;32m     51\u001b[0m     \u001b[0;31m#test(model=testmodel, dataset=test_data, device=device, batch_size=64, test_evaluater=test_evaluator, log=log)\u001b[0m\u001b[0;34m\u001b[0m\u001b[0;34m\u001b[0m\u001b[0;34m\u001b[0m\u001b[0m\n\u001b[1;32m     52\u001b[0m \u001b[0;34m\u001b[0m\u001b[0m\n",
            "\u001b[0;32m<ipython-input-10-b1367922b81f>\u001b[0m in \u001b[0;36mtrain\u001b[0;34m(model, train_data, val_data, epochs, batch_size, learning_rate, device, loss_func, optimizer, train_evaluator, val_evaluator, log, num_workers, save_model)\u001b[0m\n\u001b[1;32m     44\u001b[0m             \u001b[0moptimizer\u001b[0m\u001b[0;34m.\u001b[0m\u001b[0mzero_grad\u001b[0m\u001b[0;34m(\u001b[0m\u001b[0;34m)\u001b[0m\u001b[0;34m\u001b[0m\u001b[0;34m\u001b[0m\u001b[0m\n\u001b[1;32m     45\u001b[0m             \u001b[0;31m# forward\u001b[0m\u001b[0;34m\u001b[0m\u001b[0;34m\u001b[0m\u001b[0;34m\u001b[0m\u001b[0m\n\u001b[0;32m---> 46\u001b[0;31m             \u001b[0moutputs\u001b[0m \u001b[0;34m=\u001b[0m \u001b[0mmodel\u001b[0m\u001b[0;34m(\u001b[0m\u001b[0mdata\u001b[0m\u001b[0;34m)\u001b[0m\u001b[0;34m\u001b[0m\u001b[0;34m\u001b[0m\u001b[0m\n\u001b[0m\u001b[1;32m     47\u001b[0m             \u001b[0mcls\u001b[0m \u001b[0;34m=\u001b[0m \u001b[0mtorch\u001b[0m\u001b[0;34m.\u001b[0m\u001b[0mflatten\u001b[0m\u001b[0;34m(\u001b[0m\u001b[0mcls\u001b[0m\u001b[0;34m)\u001b[0m\u001b[0;34m\u001b[0m\u001b[0;34m\u001b[0m\u001b[0m\n\u001b[1;32m     48\u001b[0m             \u001b[0mloss\u001b[0m \u001b[0;34m=\u001b[0m \u001b[0mloss_func\u001b[0m\u001b[0;34m(\u001b[0m\u001b[0moutputs\u001b[0m\u001b[0;34m,\u001b[0m \u001b[0mcls\u001b[0m\u001b[0;34m)\u001b[0m\u001b[0;34m\u001b[0m\u001b[0;34m\u001b[0m\u001b[0m\n",
            "\u001b[0;32m/usr/local/lib/python3.7/dist-packages/torch/nn/modules/module.py\u001b[0m in \u001b[0;36m_call_impl\u001b[0;34m(self, *input, **kwargs)\u001b[0m\n\u001b[1;32m   1128\u001b[0m         if not (self._backward_hooks or self._forward_hooks or self._forward_pre_hooks or _global_backward_hooks\n\u001b[1;32m   1129\u001b[0m                 or _global_forward_hooks or _global_forward_pre_hooks):\n\u001b[0;32m-> 1130\u001b[0;31m             \u001b[0;32mreturn\u001b[0m \u001b[0mforward_call\u001b[0m\u001b[0;34m(\u001b[0m\u001b[0;34m*\u001b[0m\u001b[0minput\u001b[0m\u001b[0;34m,\u001b[0m \u001b[0;34m**\u001b[0m\u001b[0mkwargs\u001b[0m\u001b[0;34m)\u001b[0m\u001b[0;34m\u001b[0m\u001b[0;34m\u001b[0m\u001b[0m\n\u001b[0m\u001b[1;32m   1131\u001b[0m         \u001b[0;31m# Do not call functions when jit is used\u001b[0m\u001b[0;34m\u001b[0m\u001b[0;34m\u001b[0m\u001b[0;34m\u001b[0m\u001b[0m\n\u001b[1;32m   1132\u001b[0m         \u001b[0mfull_backward_hooks\u001b[0m\u001b[0;34m,\u001b[0m \u001b[0mnon_full_backward_hooks\u001b[0m \u001b[0;34m=\u001b[0m \u001b[0;34m[\u001b[0m\u001b[0;34m]\u001b[0m\u001b[0;34m,\u001b[0m \u001b[0;34m[\u001b[0m\u001b[0;34m]\u001b[0m\u001b[0;34m\u001b[0m\u001b[0;34m\u001b[0m\u001b[0m\n",
            "\u001b[0;32m<ipython-input-16-3e044a9e028e>\u001b[0m in \u001b[0;36mforward\u001b[0;34m(self, input)\u001b[0m\n\u001b[1;32m     20\u001b[0m     \u001b[0;32mdef\u001b[0m \u001b[0mforward\u001b[0m\u001b[0;34m(\u001b[0m\u001b[0mself\u001b[0m\u001b[0;34m,\u001b[0m \u001b[0minput\u001b[0m\u001b[0;34m)\u001b[0m\u001b[0;34m:\u001b[0m\u001b[0;34m\u001b[0m\u001b[0;34m\u001b[0m\u001b[0m\n\u001b[1;32m     21\u001b[0m         \u001b[0moutput\u001b[0m \u001b[0;34m=\u001b[0m \u001b[0mF\u001b[0m\u001b[0;34m.\u001b[0m\u001b[0mrelu\u001b[0m\u001b[0;34m(\u001b[0m\u001b[0mself\u001b[0m\u001b[0;34m.\u001b[0m\u001b[0mbn1\u001b[0m\u001b[0;34m(\u001b[0m\u001b[0mself\u001b[0m\u001b[0;34m.\u001b[0m\u001b[0mconv1\u001b[0m\u001b[0;34m(\u001b[0m\u001b[0minput\u001b[0m\u001b[0;34m)\u001b[0m\u001b[0;34m)\u001b[0m\u001b[0;34m)\u001b[0m\u001b[0;34m\u001b[0m\u001b[0;34m\u001b[0m\u001b[0m\n\u001b[0;32m---> 22\u001b[0;31m         \u001b[0moutput\u001b[0m \u001b[0;34m=\u001b[0m \u001b[0mF\u001b[0m\u001b[0;34m.\u001b[0m\u001b[0mrelu\u001b[0m\u001b[0;34m(\u001b[0m\u001b[0mself\u001b[0m\u001b[0;34m.\u001b[0m\u001b[0mbn2\u001b[0m\u001b[0;34m(\u001b[0m\u001b[0mself\u001b[0m\u001b[0;34m.\u001b[0m\u001b[0mconv2\u001b[0m\u001b[0;34m(\u001b[0m\u001b[0moutput\u001b[0m\u001b[0;34m)\u001b[0m\u001b[0;34m)\u001b[0m\u001b[0;34m)\u001b[0m\u001b[0;34m\u001b[0m\u001b[0;34m\u001b[0m\u001b[0m\n\u001b[0m\u001b[1;32m     23\u001b[0m         \u001b[0moutput\u001b[0m \u001b[0;34m=\u001b[0m \u001b[0mself\u001b[0m\u001b[0;34m.\u001b[0m\u001b[0mpool\u001b[0m\u001b[0;34m(\u001b[0m\u001b[0moutput\u001b[0m\u001b[0;34m)\u001b[0m\u001b[0;34m\u001b[0m\u001b[0;34m\u001b[0m\u001b[0m\n\u001b[1;32m     24\u001b[0m         \u001b[0moutput\u001b[0m \u001b[0;34m=\u001b[0m \u001b[0mF\u001b[0m\u001b[0;34m.\u001b[0m\u001b[0mrelu\u001b[0m\u001b[0;34m(\u001b[0m\u001b[0mself\u001b[0m\u001b[0;34m.\u001b[0m\u001b[0mbn4\u001b[0m\u001b[0;34m(\u001b[0m\u001b[0mself\u001b[0m\u001b[0;34m.\u001b[0m\u001b[0mconv4\u001b[0m\u001b[0;34m(\u001b[0m\u001b[0moutput\u001b[0m\u001b[0;34m)\u001b[0m\u001b[0;34m)\u001b[0m\u001b[0;34m)\u001b[0m\u001b[0;34m\u001b[0m\u001b[0;34m\u001b[0m\u001b[0m\n",
            "\u001b[0;32m/usr/local/lib/python3.7/dist-packages/torch/nn/modules/module.py\u001b[0m in \u001b[0;36m_call_impl\u001b[0;34m(self, *input, **kwargs)\u001b[0m\n\u001b[1;32m   1128\u001b[0m         if not (self._backward_hooks or self._forward_hooks or self._forward_pre_hooks or _global_backward_hooks\n\u001b[1;32m   1129\u001b[0m                 or _global_forward_hooks or _global_forward_pre_hooks):\n\u001b[0;32m-> 1130\u001b[0;31m             \u001b[0;32mreturn\u001b[0m \u001b[0mforward_call\u001b[0m\u001b[0;34m(\u001b[0m\u001b[0;34m*\u001b[0m\u001b[0minput\u001b[0m\u001b[0;34m,\u001b[0m \u001b[0;34m**\u001b[0m\u001b[0mkwargs\u001b[0m\u001b[0;34m)\u001b[0m\u001b[0;34m\u001b[0m\u001b[0;34m\u001b[0m\u001b[0m\n\u001b[0m\u001b[1;32m   1131\u001b[0m         \u001b[0;31m# Do not call functions when jit is used\u001b[0m\u001b[0;34m\u001b[0m\u001b[0;34m\u001b[0m\u001b[0;34m\u001b[0m\u001b[0m\n\u001b[1;32m   1132\u001b[0m         \u001b[0mfull_backward_hooks\u001b[0m\u001b[0;34m,\u001b[0m \u001b[0mnon_full_backward_hooks\u001b[0m \u001b[0;34m=\u001b[0m \u001b[0;34m[\u001b[0m\u001b[0;34m]\u001b[0m\u001b[0;34m,\u001b[0m \u001b[0;34m[\u001b[0m\u001b[0;34m]\u001b[0m\u001b[0;34m\u001b[0m\u001b[0;34m\u001b[0m\u001b[0m\n",
            "\u001b[0;32m/usr/local/lib/python3.7/dist-packages/torch/nn/modules/conv.py\u001b[0m in \u001b[0;36mforward\u001b[0;34m(self, input)\u001b[0m\n\u001b[1;32m    455\u001b[0m \u001b[0;34m\u001b[0m\u001b[0m\n\u001b[1;32m    456\u001b[0m     \u001b[0;32mdef\u001b[0m \u001b[0mforward\u001b[0m\u001b[0;34m(\u001b[0m\u001b[0mself\u001b[0m\u001b[0;34m,\u001b[0m \u001b[0minput\u001b[0m\u001b[0;34m:\u001b[0m \u001b[0mTensor\u001b[0m\u001b[0;34m)\u001b[0m \u001b[0;34m->\u001b[0m \u001b[0mTensor\u001b[0m\u001b[0;34m:\u001b[0m\u001b[0;34m\u001b[0m\u001b[0;34m\u001b[0m\u001b[0m\n\u001b[0;32m--> 457\u001b[0;31m         \u001b[0;32mreturn\u001b[0m \u001b[0mself\u001b[0m\u001b[0;34m.\u001b[0m\u001b[0m_conv_forward\u001b[0m\u001b[0;34m(\u001b[0m\u001b[0minput\u001b[0m\u001b[0;34m,\u001b[0m \u001b[0mself\u001b[0m\u001b[0;34m.\u001b[0m\u001b[0mweight\u001b[0m\u001b[0;34m,\u001b[0m \u001b[0mself\u001b[0m\u001b[0;34m.\u001b[0m\u001b[0mbias\u001b[0m\u001b[0;34m)\u001b[0m\u001b[0;34m\u001b[0m\u001b[0;34m\u001b[0m\u001b[0m\n\u001b[0m\u001b[1;32m    458\u001b[0m \u001b[0;34m\u001b[0m\u001b[0m\n\u001b[1;32m    459\u001b[0m \u001b[0;32mclass\u001b[0m \u001b[0mConv3d\u001b[0m\u001b[0;34m(\u001b[0m\u001b[0m_ConvNd\u001b[0m\u001b[0;34m)\u001b[0m\u001b[0;34m:\u001b[0m\u001b[0;34m\u001b[0m\u001b[0;34m\u001b[0m\u001b[0m\n",
            "\u001b[0;32m/usr/local/lib/python3.7/dist-packages/torch/nn/modules/conv.py\u001b[0m in \u001b[0;36m_conv_forward\u001b[0;34m(self, input, weight, bias)\u001b[0m\n\u001b[1;32m    452\u001b[0m                             _pair(0), self.dilation, self.groups)\n\u001b[1;32m    453\u001b[0m         return F.conv2d(input, weight, bias, self.stride,\n\u001b[0;32m--> 454\u001b[0;31m                         self.padding, self.dilation, self.groups)\n\u001b[0m\u001b[1;32m    455\u001b[0m \u001b[0;34m\u001b[0m\u001b[0m\n\u001b[1;32m    456\u001b[0m     \u001b[0;32mdef\u001b[0m \u001b[0mforward\u001b[0m\u001b[0;34m(\u001b[0m\u001b[0mself\u001b[0m\u001b[0;34m,\u001b[0m \u001b[0minput\u001b[0m\u001b[0;34m:\u001b[0m \u001b[0mTensor\u001b[0m\u001b[0;34m)\u001b[0m \u001b[0;34m->\u001b[0m \u001b[0mTensor\u001b[0m\u001b[0;34m:\u001b[0m\u001b[0;34m\u001b[0m\u001b[0;34m\u001b[0m\u001b[0m\n",
            "\u001b[0;31mKeyboardInterrupt\u001b[0m: "
          ]
        }
      ],
      "source": [
        "def main():\n",
        "    os.environ['CUDA_LAUNCH_BLOCKING'] = \"1\"\n",
        "    # ------------------------------------------------------------\n",
        "    # |                  hyper-parameter pool                    |\n",
        "    # |                                                          |\n",
        "\n",
        "    epochs = 100\n",
        "    lr = 1e-3\n",
        "    loss_func = nn.CrossEntropyLoss()\n",
        "\n",
        "\n",
        "    # |                                                          |\n",
        "    # |                  hyper-parameter pool                    |\n",
        "    # ------------------------------------------------------------\n",
        "\n",
        "    # train_data = R()\n",
        "\n",
        "    #train_data = Raw_CUB_200_2011('cub', train=True)\n",
        "    train_data = CUB_200_2011('cub', train=True, shape = 224, aug=True)\n",
        "    test_data = CUB_200_2011('cub', train=False, shape = 224, aug=True)\n",
        "    device = torch.device(\"cuda:0\" if torch.cuda.is_available() else \"cpu\")\n",
        "    #device = get_device()\n",
        "\n",
        "    print(device)\n",
        "    \n",
        "    train_evaluator = evalMatrix(clses=classNumber, device=device)\n",
        "    test_evaluator = evalMatrix(clses=classNumber, device=device)\n",
        "\n",
        "    log = Log(LogPath + 'record.csv', model_name='cnn')\n",
        "\n",
        "    # -----------------\n",
        "\n",
        "    # vgg16 = VGG16(8, conv_paras, pool_paras, fc_paras)\n",
        "    testmodel = Network()\n",
        "    # testmodel=Model()\n",
        "    #testmodel = ResNet(model_choice=50)\n",
        "    count_parameters(testmodel)\n",
        "\n",
        "    \n",
        "\n",
        "    #train(testmodel, train_data, device = device, evaluator=train_evaluator, log=log)\n",
        "    train(testmodel, train_data, test_data,\n",
        "          epochs=2000,\n",
        "          learning_rate=lr,\n",
        "          device=device,\n",
        "          loss_func=loss_func,\n",
        "          num_workers=2,\n",
        "          train_evaluator=train_evaluator,\n",
        "          val_evaluator=test_evaluator,\n",
        "          log=log)\n",
        "    #test(model=testmodel, dataset=test_data, device=device, batch_size=64, test_evaluater=test_evaluator, log=log)\n",
        "\n",
        "\n",
        "    # train(testmodel, train_data, device = device, evaluator=train_evaluator, log=log)\n",
        "    # test(model=testmodel, dataset=test_data, device=device, batch_size=64, test_evaluater=test_evaluator, log=log)\n",
        "\n",
        "    # -----------------\n",
        "\n",
        "\n",
        "if __name__ == '__main__':\n",
        "    main()"
      ],
      "id": "rhFu6yCJmTfr"
    },
    {
      "cell_type": "code",
      "execution_count": null,
      "metadata": {
        "colab": {
          "base_uri": "https://localhost:8080/"
        },
        "id": "axY23ODK6i4N",
        "outputId": "76969cbd-5068-49c4-9697-95b19dc075e8"
      },
      "outputs": [
        {
          "output_type": "stream",
          "name": "stdout",
          "text": [
            "Reading package lists... Done\n",
            "Building dependency tree       \n",
            "Reading state information... Done\n",
            "psmisc is already the newest version (23.1-1ubuntu0.1).\n",
            "The following package was automatically installed and is no longer required:\n",
            "  libnvidia-common-460\n",
            "Use 'apt autoremove' to remove it.\n",
            "0 upgraded, 0 newly installed, 0 to remove and 5 not upgraded.\n"
          ]
        }
      ],
      "source": [
        "!apt install psmisc"
      ],
      "id": "axY23ODK6i4N"
    },
    {
      "cell_type": "code",
      "execution_count": null,
      "metadata": {
        "colab": {
          "base_uri": "https://localhost:8080/"
        },
        "id": "apGHnh2x6ls2",
        "outputId": "5ed110f2-793c-420d-c413-3a17f3f90976"
      },
      "outputs": [
        {
          "output_type": "stream",
          "name": "stdout",
          "text": [
            "/dev/nvidia0:           79m\n",
            "/dev/nvidiactl:         79m\n",
            "/dev/nvidia-uvm:        79m\n"
          ]
        }
      ],
      "source": [
        "!sudo fuser /dev/nvidia*"
      ],
      "id": "apGHnh2x6ls2"
    },
    {
      "cell_type": "code",
      "execution_count": null,
      "metadata": {
        "id": "-1NZQUQC6ngs"
      },
      "outputs": [],
      "source": [
        "!kill -9 79"
      ],
      "id": "-1NZQUQC6ngs"
    },
    {
      "cell_type": "code",
      "execution_count": null,
      "metadata": {
        "id": "lO6p76XimV4V"
      },
      "outputs": [],
      "source": [],
      "id": "lO6p76XimV4V"
    },
    {
      "cell_type": "code",
      "execution_count": null,
      "metadata": {
        "id": "B-b1-4ysmWAX"
      },
      "outputs": [],
      "source": [],
      "id": "B-b1-4ysmWAX"
    },
    {
      "cell_type": "code",
      "execution_count": null,
      "metadata": {
        "id": "QIrR7SPmWfEO"
      },
      "outputs": [],
      "source": [
        "# dataset1 = CUB(root='/content/CUB_200_2011', is_train=False, transform=transform_train,)\n",
        "# print(len(dataset1))\n",
        "# testloader=torch.utils.data.DataLoader(dataset, batch_size=64, shuffle=True, num_workers=0,\n",
        "#                                               drop_last=True)\n",
        "# print(len(testloader))"
      ],
      "id": "QIrR7SPmWfEO"
    },
    {
      "cell_type": "code",
      "execution_count": null,
      "metadata": {
        "id": "ae2da111"
      },
      "outputs": [],
      "source": [
        "# from torchvision.datasets import CIFAR10\n",
        "# from torchvision.transforms import transforms\n",
        "# from torch.utils.data import DataLoader\n",
        "\n",
        "# Loading and normalizing the data.\n",
        "# Define transformations for the training and test sets\n",
        "# transformations = transforms.Compose([\n",
        "#     transforms.ToTensor(),\n",
        "#     transforms.Normalize((0.5, 0.5, 0.5), (0.5, 0.5, 0.5))\n",
        "# ])\n",
        "\n",
        "# CIFAR10 dataset consists of 50K training images. We define the batch size of 10 to load 5,000 batches of images.\n",
        "# batch_size = 64\n",
        "# number_of_labels = 200 \n",
        "\n",
        "# Create an instance for training. \n",
        "# When we run this code for the first time, the CIFAR10 train dataset will be downloaded locally. \n",
        "#train_set =CIFAR10(root=\"./data\",train=True,transform=transformations,download=True)\n",
        "\n",
        "# Create a loader for the training set which will read the data within batch size and put into memory.\n",
        "#train_loader = DataLoader(train_set, batch_size=batch_size, shuffle=True, num_workers=0)\n",
        "#print(\"The number of images in a training set is: \", len(train_loader)*batch_size)\n",
        "\n",
        "# Create an instance for testing, note that train is set to False.\n",
        "# When we run this code for the first time, the CIFAR10 test dataset will be downloaded locally. \n",
        "#test_set = CIFAR10(root=\"./data\", train=False, transform=transformations, download=True)\n",
        "\n",
        "# Create a loader for the test set which will read the data within batch size and put into memory. \n",
        "# Note that each shuffle is set to false for the test loader.\n",
        "#test_loader = DataLoader(test_set, batch_size=batch_size, shuffle=False, num_workers=0)\n",
        "#print(\"The number of images in a test set is: \", len(test_loader)*batch_size)\n",
        "\n",
        "#print(\"The number of batches per epoch is: \", len(train_loader))\n",
        "# classes = (i for i in range(200))"
      ],
      "id": "ae2da111"
    },
    {
      "cell_type": "code",
      "execution_count": null,
      "metadata": {
        "id": "665d766e"
      },
      "outputs": [],
      "source": [
        "# import torch\n",
        "# import torch.nn as nn\n",
        "# import torchvision\n",
        "# import torch.nn.functional as F\n",
        "\n",
        "# # Define a convolution neural network\n",
        "# class Network(nn.Module):\n",
        "#     def __init__(self):\n",
        "#         super(Network, self).__init__()\n",
        "        \n",
        "#         self.Flatten = nn.Flatten()\n",
        "\n",
        "#         self.conv1 = nn.Conv2d(in_channels=3, out_channels=12, kernel_size=5, stride=1, padding=1)\n",
        "#         self.bn1 = nn.BatchNorm2d(12)\n",
        "#         self.conv2 = nn.Conv2d(in_channels=12, out_channels=12, kernel_size=5, stride=1, padding=1)\n",
        "#         self.bn2 = nn.BatchNorm2d(12)\n",
        "#         self.pool = nn.MaxPool2d(2,2)\n",
        "#         self.conv4 = nn.Conv2d(in_channels=12, out_channels=24, kernel_size=5, stride=1, padding=1)\n",
        "#         self.bn4 = nn.BatchNorm2d(24)\n",
        "#         self.conv5 = nn.Conv2d(in_channels=24, out_channels=24, kernel_size=5, stride=1, padding=1)\n",
        "#         self.bn5 = nn.BatchNorm2d(24)\n",
        "#         self.fc1 = nn.Linear(269664, 200)\n",
        "        \n",
        "        \n",
        "\n",
        "#     def forward(self, input):\n",
        "#         output = F.relu(self.bn1(self.conv1(input)))      \n",
        "#         output = F.relu(self.bn2(self.conv2(output)))     \n",
        "#         output = self.pool(output)                        \n",
        "#         output = F.relu(self.bn4(self.conv4(output)))     \n",
        "#         output = F.relu(self.bn5(self.conv5(output)))     \n",
        "#         #output = output.view(-1, 24*10*10)\n",
        "#         output = self.Flatten(output)\n",
        "#         output = self.fc1(output)\n",
        "        \n",
        "#         return output\n",
        "\n",
        "# # Instantiate a neural network model \n",
        "# model = Network()"
      ],
      "id": "665d766e"
    },
    {
      "cell_type": "code",
      "execution_count": null,
      "metadata": {
        "id": "9541f557"
      },
      "outputs": [],
      "source": [
        "# from torch.optim import Adam\n",
        " \n",
        "# # Define the loss function with Classification Cross-Entropy loss and an optimizer with Adam optimizer\n",
        "# loss_fn = nn.CrossEntropyLoss()\n",
        "# optimizer = Adam(model.parameters(), lr=0.001, weight_decay=0.0001)"
      ],
      "id": "9541f557"
    },
    {
      "cell_type": "code",
      "execution_count": null,
      "metadata": {
        "id": "61dbb84f"
      },
      "outputs": [],
      "source": [
        "# from torch.autograd import Variable\n",
        "\n",
        "# # Function to save the model\n",
        "# def saveModel():\n",
        "#     path = \"./myFirstModel.pth\"\n",
        "#     torch.save(model.state_dict(), path)\n",
        "\n",
        "# # Function to test the model with the test dataset and print the accuracy for the test images\n",
        "# def testAccuracy():\n",
        "    \n",
        "#     model.eval()\n",
        "#     accuracy = 0.0\n",
        "#     total = 0.0\n",
        "#     device = torch.device(\"cuda:0\" if torch.cuda.is_available() else \"cpu\")\n",
        "#     with torch.no_grad():\n",
        "#         for data in testloader:\n",
        "            \n",
        "#             images, labels = data\n",
        "#             images, labels = images.to(device), labels.to(device)\n",
        "#             # run the model on the test set to predict labels\n",
        "#             outputs = model(images)\n",
        "#             # the label with the highest energy will be our prediction\n",
        "#             _, predicted = torch.max(outputs.data, 1)\n",
        "#             total += labels.size(0)\n",
        "#             accuracy += (predicted == labels).sum().item()\n",
        "    \n",
        "#     # compute the accuracy over all test images\n",
        "#     accuracy = (100 * accuracy / total)\n",
        "#     return(accuracy)\n",
        "\n",
        "\n",
        "# # Training function. We simply have to loop over our data iterator and feed the inputs to the network and optimize.\n",
        "# def train(num_epochs):\n",
        "    \n",
        "#     best_accuracy = 0.0\n",
        "\n",
        "#     # Define your execution device\n",
        "#     device = torch.device(\"cuda:0\" if torch.cuda.is_available() else \"cpu\")\n",
        "#     #device = torch.device(\"cpu\")\n",
        "#     print(\"The model will be running on\", device, \"device\")\n",
        "#     # Convert model parameters and buffers to CPU or Cuda\n",
        "#     model.to(device)\n",
        "\n",
        "#     for epoch in range(num_epochs):  # loop over the dataset multiple times\n",
        "#         running_loss = 0.0\n",
        "        # running_acc = 0.0\n",
        "\n",
        "        # for i, (images, labels) in enumerate(trainloader, 0):\n",
        "        #     # images, labels = images.cuda(), labels.cuda()\n",
        "        #     # get the inputs\n",
        "        #     images = images.to(device)\n",
        "        #     labels = labels.to(device)\n",
        "\n",
        "        #     # zero the parameter gradients\n",
        "        #     optimizer.zero_grad()\n",
        "        #     # predict classes using images from the training set\n",
        "        #     outputs = model(images)\n",
        "        #     # compute the loss based on model output and real labels\n",
        "        #     loss = loss_fn(outputs, labels)\n",
        "        #     # backpropagate the loss\n",
        "        #     loss.backward()\n",
        "            # adjust parameters based on the calculated gradients\n",
        "        #     optimizer.step()\n",
        "\n",
        "        #     # Let's print statistics for every 1,000 images\n",
        "        #     running_loss += loss.item()     # extract the loss value\n",
        "        #     if i % 1000 == 999:    \n",
        "        #         # print every 1000 (twice per epoch) \n",
        "        #         print('[%d, %5d] loss: %.3f' %\n",
        "        #               (epoch + 1, i + 1, running_loss / 1000))\n",
        "        #         # zero the loss\n",
        "        #         running_loss = 0.0\n",
        "\n",
        "        # # Compute and print the average accuracy fo this epoch when tested over all 10000 test images\n",
        "        # accuracy = testAccuracy()\n",
        "        # print('For epoch', epoch+1,'the test accuracy over the whole test set is %d %%' % (accuracy))\n",
        "        \n",
        "        # # we want to save the model if the accuracy is the best\n",
        "        # if accuracy > best_accuracy:\n",
        "        #     saveModel()\n",
        "        #     best_accuracy = accuracy"
      ],
      "id": "61dbb84f"
    },
    {
      "cell_type": "code",
      "execution_count": null,
      "metadata": {
        "id": "55a75dec"
      },
      "outputs": [],
      "source": [
        "# import matplotlib.pyplot as plt\n",
        "# import numpy as np\n",
        "\n",
        "# # Function to show the images\n",
        "# def imageshow(img):\n",
        "#     img = img / 2 + 0.5     # unnormalize\n",
        "#     npimg = img.numpy()\n",
        "#     plt.imshow(np.transpose(npimg, (1, 2, 0)))\n",
        "#     plt.show()\n",
        "\n",
        "\n",
        "# # Function to test the model with a batch of images and show the labels predictions\n",
        "# def testBatch():\n",
        "#     # get batch of images from the test DataLoader  \n",
        "#     images, labels = next(iter(testloader))\n",
        "\n",
        "#     # show all images as one image grid\n",
        "#     imageshow(torchvision.utils.make_grid(images))\n",
        "   \n",
        "#     # Show the real labels on the screen \n",
        "#     print('Real labels: ', ' '.join('%5s' % classes[labels[j]] \n",
        "#                                for j in range(batch_size)))\n",
        "  \n",
        "    # # Let's see what if the model identifiers the  labels of those example\n",
        "    # outputs = model(images)\n",
        "    \n",
        "    # # We got the probability for every 10 labels. The highest (max) probability should be correct label\n",
        "    # _, predicted = torch.max(outputs, 1)\n",
        "    \n",
        "    # # Let's show the predicted labels on the screen to compare with the real ones\n",
        "    # print('Predicted: ', ' '.join('%5s' % classes[predicted[j]] \n",
        "    #                           for j in range(batch_size)))"
      ],
      "id": "55a75dec"
    },
    {
      "cell_type": "code",
      "execution_count": null,
      "metadata": {
        "id": "41aa703d"
      },
      "outputs": [],
      "source": [
        "# if __name__ == \"__main__\":\n",
        "    \n",
        "#     # Let's build our model\n",
        "#     train(5)\n",
        "#     print('Finished Training')\n",
        "\n",
        "#     # Test which classes performed well\n",
        "#     testAccuracy()\n",
        "    # # Let's load the model we just created and test the accuracy per label\n",
        "    # model = Network()\n",
        "    # path = \"myFirstModel.pth\"\n",
        "    # model.load_state_dict(torch.load(path))\n",
        "\n",
        "    # # Test with batch of images"
      ],
      "id": "41aa703d"
    },
    {
      "cell_type": "code",
      "execution_count": null,
      "metadata": {
        "id": "sBiay88kiyMO"
      },
      "outputs": [],
      "source": [
        "# def count_parameters(model):\n",
        "#     # 统计一个模型的参数\n",
        "#     temp = sum(p.numel() for p in model.parameters() if p.requires_grad)\n",
        "#     print(f'\\nThe model has {temp:,} trainable parameters')\n",
        "# count_parameters(model)"
      ],
      "id": "sBiay88kiyMO"
    }
  ],
  "metadata": {
    "accelerator": "GPU",
    "colab": {
      "provenance": [],
      "include_colab_link": true
    },
    "gpuClass": "standard",
    "kernelspec": {
      "display_name": "Python 3 (ipykernel)",
      "language": "python",
      "name": "python3"
    },
    "language_info": {
      "codemirror_mode": {
        "name": "ipython",
        "version": 3
      },
      "file_extension": ".py",
      "mimetype": "text/x-python",
      "name": "python",
      "nbconvert_exporter": "python",
      "pygments_lexer": "ipython3",
      "version": "3.9.12"
    }
  },
  "nbformat": 4,
  "nbformat_minor": 5
}